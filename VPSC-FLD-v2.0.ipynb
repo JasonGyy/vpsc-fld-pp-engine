{
 "metadata": {
  "name": "",
  "signature": "sha256:010dd4269af153d9d272c49420ed2773cc68f89bbe5119bdaad60ea13f43ec4d"
 },
 "nbformat": 3,
 "nbformat_minor": 0,
 "worksheets": [
  {
   "cells": [
    {
     "cell_type": "code",
     "collapsed": false,
     "input": [
      "import os;from os import getcwd,chdir\n",
      "import tempfile\n",
      "from MP.mat import mech\n",
      "FlowCurve=mech.FlowCurve\n",
      "path_home = getcwd()"
     ],
     "language": "python",
     "metadata": {},
     "outputs": [],
     "prompt_number": 60
    },
    {
     "cell_type": "code",
     "collapsed": false,
     "input": [
      "path_vpsc_home = '/Users/yj/repo/vpsc/vpsc-dev-fld'\n",
      "chdir(path_vpsc_home)"
     ],
     "language": "python",
     "metadata": {},
     "outputs": [],
     "prompt_number": 61
    },
    {
     "cell_type": "code",
     "collapsed": false,
     "input": [
      "import subprocess,os\n",
      "import time\n",
      "from MP import progress_bar\n",
      "uet = progress_bar.update_elapsed_time\n",
      "class workerFLDa():\n",
      "    def __init__(self):\n",
      "        pass\n",
      "    def create_working_folder(\n",
      "            self,rho=0,cvm=1e-3,evm_limit=0.03,\n",
      "            deij=1e-3,path_work=None):\n",
      "        \"\"\"\n",
      "        Create worker's duty\n",
      "        The worker should create 'vpsc7.in' input\n",
      "        according to the linear path (rho), strain rate (cvm),\n",
      "        with an increment of <deij>. The worker should keep\n",
      "        up the duty until <evm_limit> is reached.\n",
      "        \n",
      "        Arguments\n",
      "        =========\n",
      "        rho\n",
      "        cvm\n",
      "        evm_limit\n",
      "        deij\n",
      "        path_work\n",
      "        \"\"\"\n",
      "        from fld import fld_pre_probe\n",
      "        if path_work==None:\n",
      "            self.path_work= tempfile.mkdtemp(dir='/tmp', \n",
      "                                             prefix='VPSC-test-')\n",
      "        else: self.path_work = path_work\n",
      "        fld_pre_probe(rho=rho, cvm=cvm, \n",
      "                      evm_limit=evm_limit,\n",
      "                      deij=deij,\n",
      "                      dst=self.path_work)\n",
      "    def run(self,bufsize=1):\n",
      "        \"\"\"\n",
      "        Execute VPSC and piping stdout\n",
      "        \n",
      "        Argments\n",
      "        ========\n",
      "        wait=False\n",
      "        bufsize=1\n",
      "        \"\"\"\n",
      "        os.chdir(self.path_work)\n",
      "        ## piping to file object\n",
      "        self.stdout = subprocess.PIPE\n",
      "        self.p = subprocess.Popen(['./vpsc'], \n",
      "                                #shell=True,\n",
      "                                stdout=self.stdout,\n",
      "                                bufsize=bufsize)\n",
      "        self.stdout=self.p.stdout\n",
      "        self.pid=self.p.pid\n",
      "        self.sigma = []\n",
      "        self.epsilon = []         \n",
      "\n",
      "#    def kill(self): self.p.kill()\n",
      "#    def terminate(self): self.p.terminate()\n",
      "#    def lock(self): self.p.wait()\n",
      "\n",
      "    def readlines(self,nbuf=10,verbose=False):\n",
      "        \"\"\"\n",
      "        Read <nbuf> number of lines from self.stdout\n",
      "        \n",
      "        Arguments\n",
      "        =========\n",
      "        nbuf=10\n",
      "        verbose=False\n",
      "        \"\"\"\n",
      "        for i in range(nbuf):\n",
      "            line = self.stdout.readline().split('\\n')[0]\n",
      "            try:\n",
      "                d=line.split('||')\n",
      "                eps=np.array(map(float,d[0].split()))\n",
      "                sig=np.array(map(float,d[1].split()))\n",
      "            except: pass\n",
      "            else:\n",
      "                if verbose: print d\n",
      "                self.sigma.append(sig)\n",
      "                self.epsilon.append(eps)\n",
      "                self.update_fc()\n",
      "                self.fc.get_eqv()\n",
      "    def set_monitor(self,term_evm=0.1,dt=5,nbuf=10):\n",
      "        \"\"\"\n",
      "        Monitoring stress-strain, if p terminates\n",
      "        prior to given term_evm, save/return that value.\n",
      "        \"\"\"\n",
      "        t0=time.time()\n",
      "        iexit=False\n",
      "        while not(iexit):\n",
      "            t1=time.time(); elps = t1-t0\n",
      "            uet(elps,False,'Total elapsed time')\n",
      "            self.readlines(nbuf=nbuf)\n",
      "            try: \n",
      "                dum=self.fc.nstp\n",
      "            except: pass\n",
      "            else:\n",
      "                #print self.fc.epsilon_vm[-1], term_evm\n",
      "                if self.fc.epsilon_vm[-1]>=term_evm:\n",
      "                    #self.p.kill()\n",
      "                    self.p.terminate()\n",
      "                    print '\\nprocess killed due to exceeding term_evm'\n",
      "                    return self.fc.epsilon_vm[-1]\n",
      "                    iexit = True\n",
      "            if self.p.poll()!=None:\n",
      "                print 'process terminated'\n",
      "                print self.p.poll();iexit=True\n",
      "                if self.fc.epsilon_vm[-1]<term_evm:\n",
      "                    print 'VM strain found from pid:%i '%self.p.pid,\n",
      "                    print 'is lower than the given value!'\n",
      "                    return self.fc.epsilon_vm[-1]\n",
      "            if not(iexit): time.sleep(dt)\n",
      "    def update_fc(self):\n",
      "        \"\"\"\n",
      "        Update flow stress/strain data\n",
      "        \"\"\"\n",
      "        eps,sig = np.array(self.epsilon).T, np.array(self.sigma).T\n",
      "        self.fc = FlowCurve()\n",
      "        self.fc.get_6strain(eps)\n",
      "        self.fc.get_6stress(sig)\n",
      "    def returncode(self):\n",
      "        return p.returncode"
     ],
     "language": "python",
     "metadata": {},
     "outputs": [],
     "prompt_number": 88
    },
    {
     "cell_type": "code",
     "collapsed": false,
     "input": [
      "\"\"\"\n",
      "Workers form a union.\n",
      "\"\"\"\n",
      "class WorkUnion:\n",
      "    def __init__(self):\n",
      "        pass\n",
      "    def assembly(self):\n",
      "        pass\n",
      "    def set_monitor(self):\n",
      "        pass"
     ],
     "language": "python",
     "metadata": {},
     "outputs": []
    },
    {
     "cell_type": "code",
     "collapsed": false,
     "input": [
      "pwd"
     ],
     "language": "python",
     "metadata": {},
     "outputs": [
      {
       "metadata": {},
       "output_type": "pyout",
       "prompt_number": 86,
       "text": [
        "u'/private/tmp/VPSC-test-FxYIwu'"
       ]
      }
     ],
     "prompt_number": 86
    },
    {
     "cell_type": "code",
     "collapsed": false,
     "input": [
      "myFLDa=workerFLDa()\n",
      "myFLDa.create_working_folder(evm_limit=0.02)\n",
      "print myFLDa.path_work"
     ],
     "language": "python",
     "metadata": {},
     "outputs": [
      {
       "output_type": "stream",
       "stream": "stdout",
       "text": [
        "/tmp/VPSC-test-FxYIwu\n"
       ]
      }
     ],
     "prompt_number": 83
    },
    {
     "cell_type": "code",
     "collapsed": false,
     "input": [
      "myFLDa.run()\n",
      "print myFLDa.pid"
     ],
     "language": "python",
     "metadata": {},
     "outputs": [
      {
       "output_type": "stream",
       "stream": "stdout",
       "text": [
        "15022\n"
       ]
      }
     ],
     "prompt_number": 84
    },
    {
     "cell_type": "code",
     "collapsed": false,
     "input": [
      "myFLDa.set_monitor(dt=0.5,term_evm=0.01)"
     ],
     "language": "python",
     "metadata": {},
     "outputs": [
      {
       "ename": "AttributeError",
       "evalue": "workerFLDa instance has no attribute 'set_monitor'",
       "output_type": "pyerr",
       "traceback": [
        "\u001b[0;31m---------------------------------------------------------------------------\u001b[0m\n\u001b[0;31mAttributeError\u001b[0m                            Traceback (most recent call last)",
        "\u001b[0;32m<ipython-input-87-51a276984fbd>\u001b[0m in \u001b[0;36m<module>\u001b[0;34m()\u001b[0m\n\u001b[0;32m----> 1\u001b[0;31m \u001b[0mmyFLDa\u001b[0m\u001b[0;34m.\u001b[0m\u001b[0mset_monitor\u001b[0m\u001b[0;34m(\u001b[0m\u001b[0mdt\u001b[0m\u001b[0;34m=\u001b[0m\u001b[0;36m0.5\u001b[0m\u001b[0;34m,\u001b[0m\u001b[0mterm_evm\u001b[0m\u001b[0;34m=\u001b[0m\u001b[0;36m0.01\u001b[0m\u001b[0;34m)\u001b[0m\u001b[0;34m\u001b[0m\u001b[0m\n\u001b[0m",
        "\u001b[0;31mAttributeError\u001b[0m: workerFLDa instance has no attribute 'set_monitor'"
       ]
      }
     ],
     "prompt_number": 87
    },
    {
     "cell_type": "code",
     "collapsed": false,
     "input": [
      "myFLDa.kill()"
     ],
     "language": "python",
     "metadata": {},
     "outputs": [],
     "prompt_number": 70
    },
    {
     "cell_type": "code",
     "collapsed": false,
     "input": [
      "myFLDa.readlines(nbuf=5)"
     ],
     "language": "python",
     "metadata": {},
     "outputs": [],
     "prompt_number": 33
    },
    {
     "cell_type": "code",
     "collapsed": false,
     "input": [
      "myFLDa.fc.epsilon_vm[-2]"
     ],
     "language": "python",
     "metadata": {},
     "outputs": [
      {
       "metadata": {},
       "output_type": "pyout",
       "prompt_number": 31,
       "text": [
        "0.02770657475252003"
       ]
      }
     ],
     "prompt_number": 31
    },
    {
     "cell_type": "code",
     "collapsed": false,
     "input": [
      "myFLDa.kill()"
     ],
     "language": "python",
     "metadata": {},
     "outputs": []
    },
    {
     "cell_type": "code",
     "collapsed": false,
     "input": [
      "myFLDa.fc.epsilon"
     ],
     "language": "python",
     "metadata": {},
     "outputs": [
      {
       "metadata": {},
       "output_type": "pyout",
       "prompt_number": 31,
       "text": [
        "array([], shape=(3, 3, 0), dtype=float64)"
       ]
      }
     ],
     "prompt_number": 31
    },
    {
     "cell_type": "code",
     "collapsed": false,
     "input": [
      "%whos"
     ],
     "language": "python",
     "metadata": {},
     "outputs": [
      {
       "output_type": "stream",
       "stream": "stdout",
       "text": [
        "Variable         Type                          Data/Info\n",
        "--------------------------------------------------------\n",
        "FlowCurve        classobj                      MP.mat.mech.FlowCurve\n",
        "chdir            builtin_function_or_method    <built-in function chdir>\n",
        "getcwd           builtin_function_or_method    <built-in function getcwd>\n",
        "mech             module                        <module 'MP.mat.mech' fro<...>ackages/MP/mat/mech.pyc'>\n",
        "myFLDa           __main__.workerFLDa           <__main__.workerFLDa instance at 0x1054d4560>\n",
        "os               module                        <module 'os' from '/Users<...>da/lib/python2.7/os.pyc'>\n",
        "path_home        str                           /Users/yj/repo/que_learning\n",
        "path_vpsc_home   str                           /Users/yj/repo/vpsc/vpsc-dev-fld\n",
        "progress_bar     module                        <module 'MP.progress_bar'<...>ges/MP/progress_bar.pyc'>\n",
        "subprocess       module                        <module 'subprocess' from<...>ython2.7/subprocess.pyc'>\n",
        "tempfile         module                        <module 'tempfile' from '<...>/python2.7/tempfile.pyc'>\n",
        "time             module                        <module 'time' from '/Use<...>2.7/lib-dynload/time.so'>\n",
        "uet              function                      <function update_elapsed_time at 0x105c6a8c0>\n",
        "workerFLDa       classobj                      __main__.workerFLDa\n"
       ]
      }
     ],
     "prompt_number": 50
    },
    {
     "cell_type": "code",
     "collapsed": false,
     "input": [],
     "language": "python",
     "metadata": {},
     "outputs": []
    }
   ],
   "metadata": {}
  }
 ]
}