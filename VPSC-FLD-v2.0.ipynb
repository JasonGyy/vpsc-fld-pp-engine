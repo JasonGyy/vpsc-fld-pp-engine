{
 "cells": [
  {
   "cell_type": "code",
   "execution_count": 1,
   "metadata": {
    "collapsed": false
   },
   "outputs": [],
   "source": [
    "## dependencies\n",
    "import os;from os import getcwd,chdir\n",
    "path_vpsc_home = '/Users/yj/repo/vpsc/vpsc-dev-fld'\n",
    "chdir(path_vpsc_home)\n",
    "from fld import write_FLDnu\n",
    "from MP import progress_bar\n",
    "from MP.mat import mech\n",
    "import tempfile, timeit, fld, subprocess, threading,time,shutil, multiprocessing\n",
    "from multiprocessing import Process\n",
    "\n",
    "\n",
    "upr = progress_bar.update_progress\n",
    "uet = progress_bar.update_elapsed_time\n",
    "FlowCurve = mech.FlowCurve\n",
    "path_home = getcwd()\n"
   ]
  },
  {
   "cell_type": "code",
   "execution_count": 2,
   "metadata": {
    "collapsed": false
   },
   "outputs": [
    {
     "name": "stdout",
     "output_type": "stream",
     "text": [
      "3 1\n",
      "3 3 4 5\n"
     ]
    }
   ],
   "source": [
    "def dum(a,b,*wc):\n",
    "    print a, b\n",
    "    for w in wc:\n",
    "        print w,\n",
    "dum(3,1,3,3,4,5)"
   ]
  },
  {
   "cell_type": "code",
   "execution_count": 3,
   "metadata": {
    "collapsed": false
   },
   "outputs": [],
   "source": [
    "class workerFLDa():\n",
    "    def __init__(self):\n",
    "        self.path_home=os.getcwd()\n",
    "        self.fc = FlowCurve()\n",
    "        pass\n",
    "    def create_working_folder(\n",
    "            self,rho=0,cvm=1e-3,evm_limit=0.03,\n",
    "            deij=1e-3,path_work=None):\n",
    "        \"\"\"\n",
    "        Assign worker's duty\n",
    "        The worker should create 'vpsc7.in' input\n",
    "        according to the linear path (rho), strain rate (cvm),\n",
    "        with an increment of <deij>. The worker should keep\n",
    "        up the duty until <evm_limit> is reached.\n",
    "        \n",
    "        Arguments\n",
    "        =========\n",
    "        rho\n",
    "        cvm\n",
    "        evm_limit\n",
    "        deij\n",
    "        path_work\n",
    "        \"\"\"\n",
    "        from fld import fld_pre_probe\n",
    "        if path_work==None:\n",
    "            self.path_work= tempfile.mkdtemp(dir='/tmp', \n",
    "                                             prefix='VPSC-FLDa-worker-')\n",
    "        else: self.path_work = path_work\n",
    "        print self.path_work, ' has been created'\n",
    "        fld_pre_probe(rho, cvm, evm_limit, deij,\n",
    "                      self.path_work,'FLD_nu.in','vpsc')\n",
    "    def run(self,bufsize=1):\n",
    "        \"\"\"\n",
    "        Execute VPSC and piping stdout\n",
    "        \n",
    "        Argments\n",
    "        ========\n",
    "        wait=False\n",
    "        bufsize=1\n",
    "        \"\"\"\n",
    "        os.chdir(self.path_work)\n",
    "        ## piping to file object\n",
    "        self.stdout = subprocess.PIPE\n",
    "        self.fc.epsilon_vm=[]\n",
    "        self.p = subprocess.Popen(['./vpsc'], \n",
    "                                shell=True,\n",
    "                                stdout=self.stdout,\n",
    "                                bufsize=bufsize)\n",
    "        self.stdout=self.p.stdout\n",
    "        self.pid=self.p.pid\n",
    "        self.sigma = []\n",
    "        self.epsilon = [] \n",
    "    def remove(self):\n",
    "        shutil.rmtree(self.path_work)\n",
    "        print 'path_work: %s has been removed'%self.path_work\n",
    "        os.chdir(self.path_home)\n",
    "        print 'Homing to %s'%self.path_home\n",
    "\n",
    "#    def kill(self): self.p.kill()\n",
    "#    def terminate(self): self.p.terminate()\n",
    "#    def lock(self): self.p.wait()\n",
    "\n",
    "    def readlines(self,nbuf=10,verbose=False):\n",
    "        \"\"\"\n",
    "        Read <nbuf> number of lines from self.stdout\n",
    "        \n",
    "        Arguments\n",
    "        =========\n",
    "        nbuf=10\n",
    "        verbose=False\n",
    "        \"\"\"\n",
    "        for i in range(nbuf):\n",
    "            line = self.stdout.readline().split('\\n')[0]\n",
    "            try:\n",
    "                d=line.split('||')\n",
    "                eps=np.array(map(float,d[0].split()))\n",
    "                sig=np.array(map(float,d[1].split()))\n",
    "            except: pass\n",
    "            else:\n",
    "                if verbose: print d\n",
    "                self.sigma.append(sig)\n",
    "                self.epsilon.append(eps)\n",
    "                self.update_fc()\n",
    "                self.fc.get_eqv()\n",
    "    def set_monitor(self,term_evm=0.1,dt=5,nbuf=10):\n",
    "        \"\"\"\n",
    "        Monitoring stress-strain, if p terminates\n",
    "        prior to given term_evm, save/return that value.\n",
    "        \n",
    "        Arguments\n",
    "        =========\n",
    "        term_evm=0.1\n",
    "        dt=5\n",
    "        nbuf=10\n",
    "        \"\"\"\n",
    "        t0=time.time()\n",
    "        iexit=False\n",
    "        while not(iexit):\n",
    "            t1=time.time(); elps = t1-t0\n",
    "            uet(elps,False,'Total elapsed time')\n",
    "            self.readlines(nbuf=nbuf)\n",
    "            try: \n",
    "                dum=self.fc.nstp\n",
    "            except: pass\n",
    "            else:\n",
    "                #print self.fc.epsilon_vm[-1], term_evm\n",
    "                if self.fc.epsilon_vm[-1]>=term_evm:\n",
    "                    #self.p.kill()\n",
    "                    self.p.terminate()\n",
    "                    print '\\nprocess killed due to exceeding term_evm'\n",
    "                    return self.fc.epsilon_vm[-1]\n",
    "                    iexit = True\n",
    "            if self.p.poll()!=None:\n",
    "                print 'process terminated'\n",
    "                print self.p.poll();iexit=True\n",
    "                if self.fc.epsilon_vm[-1]<term_evm:\n",
    "                    print 'VM strain found from pid:%i '%self.p.pid,\n",
    "                    print 'is lower than the given value!'\n",
    "                    return self.fc.epsilon_vm[-1]\n",
    "            if not(iexit): time.sleep(dt)\n",
    "    def update_fc(self):\n",
    "        \"\"\"\n",
    "        Update flow stress/strain data\n",
    "        \"\"\"\n",
    "        eps,sig = np.array(self.epsilon).T, np.array(self.sigma).T\n",
    "        self.fc.get_6strain(eps)\n",
    "        self.fc.get_6stress(sig)\n",
    "    def returncode(self):\n",
    "        return p.returncode"
   ]
  },
  {
   "cell_type": "code",
   "execution_count": 4,
   "metadata": {
    "collapsed": false
   },
   "outputs": [],
   "source": [
    "\"\"\"\n",
    "Workers form a union.\n",
    "\"\"\"\n",
    "class WorkUnion:\n",
    "    def __init__(self):\n",
    "        pass\n",
    "    def assembly(self):\n",
    "        pass\n",
    "    def set_monitor(self):\n",
    "        pass"
   ]
  },
  {
   "cell_type": "code",
   "execution_count": 5,
   "metadata": {
    "collapsed": false
   },
   "outputs": [
    {
     "data": {
      "text/plain": [
       "u'/Users/yj/repo/vpsc/vpsc-dev-fld'"
      ]
     },
     "execution_count": 5,
     "metadata": {},
     "output_type": "execute_result"
    }
   ],
   "source": [
    "pwd"
   ]
  },
  {
   "cell_type": "code",
   "execution_count": 6,
   "metadata": {
    "collapsed": false
   },
   "outputs": [
    {
     "name": "stdout",
     "output_type": "stream",
     "text": [
      "\u001b[31mCubcomp.in\u001b[m\u001b[m*  FLD_nu.in    MANIFEST.in  vpsc7.in\r\n"
     ]
    }
   ],
   "source": [
    "ls *.in"
   ]
  },
  {
   "cell_type": "code",
   "execution_count": 7,
   "metadata": {
    "collapsed": false
   },
   "outputs": [
    {
     "name": "stdout",
     "output_type": "stream",
     "text": [
      "/tmp/VPSC-FLDa-worker-Gsa24a  has been created\n"
     ]
    },
    {
     "ename": "TypeError",
     "evalue": "fld_pre_probe() takes at most 6 arguments (7 given)",
     "output_type": "error",
     "traceback": [
      "\u001b[0;31m---------------------------------------------------------------------------\u001b[0m",
      "\u001b[0;31mTypeError\u001b[0m                                 Traceback (most recent call last)",
      "\u001b[0;32m<ipython-input-7-53104e46214e>\u001b[0m in \u001b[0;36m<module>\u001b[0;34m()\u001b[0m\n\u001b[1;32m      1\u001b[0m \u001b[0mmyFLDa\u001b[0m\u001b[0;34m=\u001b[0m\u001b[0mworkerFLDa\u001b[0m\u001b[0;34m(\u001b[0m\u001b[0;34m)\u001b[0m\u001b[0;34m\u001b[0m\u001b[0m\n\u001b[0;32m----> 2\u001b[0;31m \u001b[0mmyFLDa\u001b[0m\u001b[0;34m.\u001b[0m\u001b[0mcreate_working_folder\u001b[0m\u001b[0;34m(\u001b[0m\u001b[0mevm_limit\u001b[0m\u001b[0;34m=\u001b[0m\u001b[0;36m0.01\u001b[0m\u001b[0;34m)\u001b[0m\u001b[0;34m\u001b[0m\u001b[0m\n\u001b[0m\u001b[1;32m      3\u001b[0m \u001b[0;32mprint\u001b[0m \u001b[0mmyFLDa\u001b[0m\u001b[0;34m.\u001b[0m\u001b[0mpath_work\u001b[0m\u001b[0;34m\u001b[0m\u001b[0m\n",
      "\u001b[0;32m<ipython-input-3-a007dd37f719>\u001b[0m in \u001b[0;36mcreate_working_folder\u001b[0;34m(self, rho, cvm, evm_limit, deij, path_work)\u001b[0m\n\u001b[1;32m     29\u001b[0m         \u001b[0;32mprint\u001b[0m \u001b[0mself\u001b[0m\u001b[0;34m.\u001b[0m\u001b[0mpath_work\u001b[0m\u001b[0;34m,\u001b[0m \u001b[0;34m' has been created'\u001b[0m\u001b[0;34m\u001b[0m\u001b[0m\n\u001b[1;32m     30\u001b[0m         fld_pre_probe(rho, cvm, evm_limit, deij,\n\u001b[0;32m---> 31\u001b[0;31m                       self.path_work,'FLD_nu.in','vpsc')\n\u001b[0m\u001b[1;32m     32\u001b[0m     \u001b[0;32mdef\u001b[0m \u001b[0mrun\u001b[0m\u001b[0;34m(\u001b[0m\u001b[0mself\u001b[0m\u001b[0;34m,\u001b[0m\u001b[0mbufsize\u001b[0m\u001b[0;34m=\u001b[0m\u001b[0;36m1\u001b[0m\u001b[0;34m)\u001b[0m\u001b[0;34m:\u001b[0m\u001b[0;34m\u001b[0m\u001b[0m\n\u001b[1;32m     33\u001b[0m         \"\"\"\n",
      "\u001b[0;31mTypeError\u001b[0m: fld_pre_probe() takes at most 6 arguments (7 given)"
     ]
    }
   ],
   "source": [
    "myFLDa=workerFLDa()\n",
    "myFLDa.create_working_folder(evm_limit=0.01)\n",
    "print myFLDa.path_work"
   ]
  },
  {
   "cell_type": "code",
   "execution_count": 8,
   "metadata": {
    "collapsed": false
   },
   "outputs": [
    {
     "name": "stdout",
     "output_type": "stream",
     "text": [
      "72141\n"
     ]
    }
   ],
   "source": [
    "myFLDa.run()\n",
    "print myFLDa.pid\n",
    "myFLDa.readlines()"
   ]
  },
  {
   "cell_type": "code",
   "execution_count": 9,
   "metadata": {
    "collapsed": false
   },
   "outputs": [],
   "source": [
    "myFLDa.readlines()"
   ]
  },
  {
   "cell_type": "code",
   "execution_count": 10,
   "metadata": {
    "collapsed": false
   },
   "outputs": [
    {
     "name": "stdout",
     "output_type": "stream",
     "text": [
      "Total elapsed time: 00 [sec]\n",
      "process killed due to exceeding term_evm\n"
     ]
    },
    {
     "data": {
      "text/plain": [
       "0.01268219641378706"
      ]
     },
     "execution_count": 10,
     "metadata": {},
     "output_type": "execute_result"
    }
   ],
   "source": [
    "myFLDa.set_monitor(dt=0.5,term_evm=0.01)"
   ]
  },
  {
   "cell_type": "code",
   "execution_count": 11,
   "metadata": {
    "collapsed": false
   },
   "outputs": [],
   "source": [
    "myFLDa.p.kill()"
   ]
  },
  {
   "cell_type": "code",
   "execution_count": 12,
   "metadata": {
    "collapsed": false
   },
   "outputs": [
    {
     "name": "stdout",
     "output_type": "stream",
     "text": [
      "path_work: /tmp/VPSC-FLDa-worker-9O8R2M has been removed\n",
      "Homing to /Users/yj/repo/vpsc/vpsc-dev-fld\n"
     ]
    }
   ],
   "source": [
    "myFLDa.remove()"
   ]
  },
  {
   "cell_type": "code",
   "execution_count": 13,
   "metadata": {
    "collapsed": false
   },
   "outputs": [],
   "source": [
    "myFLDa.readlines(nbuf=5)"
   ]
  },
  {
   "cell_type": "code",
   "execution_count": 14,
   "metadata": {
    "collapsed": false
   },
   "outputs": [
    {
     "data": {
      "text/plain": [
       "0.017293614440338348"
      ]
     },
     "execution_count": 14,
     "metadata": {},
     "output_type": "execute_result"
    }
   ],
   "source": [
    "myFLDa.fc.epsilon_vm[-2]"
   ]
  },
  {
   "cell_type": "code",
   "execution_count": 15,
   "metadata": {
    "collapsed": false
   },
   "outputs": [
    {
     "name": "stdout",
     "output_type": "stream",
     "text": [
      "[[[ 0.001  0.002  0.003  0.004  0.005  0.006  0.007  0.008  0.009  0.01\n",
      "    0.011  0.012  0.013  0.014  0.015  0.016]\n",
      "  [ 0.     0.     0.     0.     0.     0.     0.     0.     0.     0.     0.\n",
      "    0.     0.     0.     0.     0.   ]\n",
      "  [ 0.     0.     0.     0.     0.     0.     0.     0.     0.     0.     0.\n",
      "    0.     0.     0.     0.     0.   ]]\n",
      "\n",
      " [[ 0.     0.     0.     0.     0.     0.     0.     0.     0.     0.     0.\n",
      "    0.     0.     0.     0.     0.   ]\n",
      "  [ 0.     0.     0.     0.     0.     0.     0.     0.     0.     0.     0.\n",
      "    0.     0.     0.     0.     0.   ]\n",
      "  [ 0.     0.     0.     0.     0.     0.     0.     0.     0.     0.     0.\n",
      "    0.     0.     0.     0.     0.   ]]\n",
      "\n",
      " [[ 0.     0.     0.     0.     0.     0.     0.     0.     0.     0.     0.\n",
      "    0.     0.     0.     0.     0.   ]\n",
      "  [ 0.     0.     0.     0.     0.     0.     0.     0.     0.     0.     0.\n",
      "    0.     0.     0.     0.     0.   ]\n",
      "  [-0.001 -0.002 -0.003 -0.004 -0.005 -0.006 -0.007 -0.008 -0.009 -0.01\n",
      "   -0.011 -0.012 -0.013 -0.014 -0.015 -0.016]]]\n",
      "[[[ 150.83  153.67  156.48  159.3   162.06  164.81  167.53  170.23  172.86\n",
      "    175.52  178.17  180.8   183.4   185.99  188.56  191.11]\n",
      "  [  -1.07   -1.08   -1.1    -1.12   -1.14   -1.16   -1.17   -1.19   -1.2\n",
      "     -1.21   -1.23   -1.24   -1.26   -1.27   -1.29   -1.3 ]\n",
      "  [   2.22    2.25    2.29    2.33    2.36    2.4     2.44    2.47    2.5\n",
      "      2.54    2.57    2.61    2.65    2.69    2.73    2.77]]\n",
      "\n",
      " [[  -1.07   -1.08   -1.1    -1.12   -1.14   -1.16   -1.17   -1.19   -1.2\n",
      "     -1.21   -1.23   -1.24   -1.26   -1.27   -1.29   -1.3 ]\n",
      "  [  73.5    74.96   76.41   77.89   79.31   80.73   82.15   83.55   84.85\n",
      "     86.24   87.62   88.99   90.36   91.71   93.07   94.41]\n",
      "  [  -3.19   -3.27   -3.35   -3.41   -3.49   -3.56   -3.64   -3.72   -3.8\n",
      "     -3.88   -3.95   -4.03   -4.1    -4.17   -4.25   -4.32]]\n",
      "\n",
      " [[   2.22    2.25    2.29    2.33    2.36    2.4     2.44    2.47    2.5\n",
      "      2.54    2.57    2.61    2.65    2.69    2.73    2.77]\n",
      "  [  -3.19   -3.27   -3.35   -3.41   -3.49   -3.56   -3.64   -3.72   -3.8\n",
      "     -3.88   -3.95   -4.03   -4.1    -4.17   -4.25   -4.32]\n",
      "  [   0.      0.      0.      0.      0.      0.      0.      0.      0.\n",
      "      0.      0.      0.      0.      0.      0.      0.  ]]]\n"
     ]
    }
   ],
   "source": [
    "print myFLDa.fc.epsilon\n",
    "print myFLDa.fc.sigma"
   ]
  },
  {
   "cell_type": "code",
   "execution_count": 16,
   "metadata": {
    "collapsed": false
   },
   "outputs": [
    {
     "name": "stdout",
     "output_type": "stream",
     "text": [
      "Variable          Type                          Data/Info\n",
      "---------------------------------------------------------\n",
      "FlowCurve         classobj                      MP.mat.mech.FlowCurve\n",
      "Process           type                          <class 'multiprocessing.process.Process'>\n",
      "WorkUnion         classobj                      __main__.WorkUnion\n",
      "chdir             builtin_function_or_method    <built-in function chdir>\n",
      "dum               function                      <function dum at 0x1063ce1b8>\n",
      "fld               module                        <module 'fld' from 'fld.py'>\n",
      "getcwd            builtin_function_or_method    <built-in function getcwd>\n",
      "mech              module                        <module 'MP.mat.mech' fro<...>ackages/MP/mat/mech.pyc'>\n",
      "multiprocessing   module                        <module 'multiprocessing'<...>processing/__init__.pyc'>\n",
      "myFLDa            __main__.workerFLDa           <__main__.workerFLDa instance at 0x1055e4200>\n",
      "os                module                        <module 'os' from '/Users<...>da/lib/python2.7/os.pyc'>\n",
      "path_home         str                           /Users/yj/repo/vpsc/vpsc-dev-fld\n",
      "path_vpsc_home    str                           /Users/yj/repo/vpsc/vpsc-dev-fld\n",
      "progress_bar      module                        <module 'MP.progress_bar'<...>ges/MP/progress_bar.pyc'>\n",
      "shutil            module                        <module 'shutil' from '/U<...>ib/python2.7/shutil.pyc'>\n",
      "subprocess        module                        <module 'subprocess' from<...>ython2.7/subprocess.pyc'>\n",
      "tempfile          module                        <module 'tempfile' from '<...>/python2.7/tempfile.pyc'>\n",
      "threading         module                        <module 'threading' from <...>python2.7/threading.pyc'>\n",
      "time              module                        <module 'time' from '/Use<...>2.7/lib-dynload/time.so'>\n",
      "timeit            module                        <module 'timeit' from '/U<...>ib/python2.7/timeit.pyc'>\n",
      "uet               function                      <function update_elapsed_time at 0x105d87578>\n",
      "upr               function                      <function update_progress at 0x105d870c8>\n",
      "workerFLDa        classobj                      __main__.workerFLDa\n",
      "write_FLDnu       function                      <function write_FLDnu at 0x105d70a28>\n"
     ]
    }
   ],
   "source": [
    "%whos"
   ]
  },
  {
   "cell_type": "markdown",
   "metadata": {},
   "source": [
    "# Forming limit diagram prediction using VPSC for region B"
   ]
  },
  {
   "cell_type": "code",
   "execution_count": 17,
   "metadata": {
    "collapsed": false
   },
   "outputs": [
    {
     "name": "stdout",
     "output_type": "stream",
     "text": [
      "VPSCFLDb-vpscin-534FkX.tar     VPSCFLDb-vpscin-KwvDvn.tar     fld_a_rst_00.tar               fld_a_rst_01.tar               fld_a_rst_02.tar               fld_a_rst_20150305_JyjeTz.tar\r\n"
     ]
    }
   ],
   "source": [
    "ls *.tar"
   ]
  },
  {
   "cell_type": "code",
   "execution_count": 18,
   "metadata": {
    "collapsed": false
   },
   "outputs": [
    {
     "name": "stdout",
     "output_type": "stream",
     "text": [
      "['fld_a_rst_00.tar', 'fld_a_rst_01.tar', 'fld_a_rst_02.tar', 'fld_a_rst_03.tar']\n"
     ]
    }
   ],
   "source": [
    "import os\n",
    "\n",
    "path_vpsc_home = '/Users/yj/repo/vpsc/vpsc-dev-fld'\n",
    "fns=os.listdir(path_vpsc_home)\n",
    "tar_fn_regiona='/Users/yj/repo/vpsc/vpsc-dev-fld/fld_a_rst_20150305_JyjeTz.tar'\n",
    "p=os.popen('tar -tf %s'%tar_fn_regiona)\n",
    "tar_fn_regiona_paths=p.readlines()\n",
    "for i in range(len(tar_fn_regiona_paths)):\n",
    "    tar_fn_regiona_paths[i]=tar_fn_regiona_paths[i].split('\\n')[0]\n",
    "print tar_fn_regiona_paths\n",
    "\n",
    "class NM_list:\n",
    "    def __init__(self,n,m):\n",
    "        self.container=[]\n",
    "        for i in range(n):\n",
    "            self.container.append([])\n",
    "            for j in range(m):\n",
    "                self.container[i].append(None)"
   ]
  },
  {
   "cell_type": "code",
   "execution_count": 19,
   "metadata": {
    "collapsed": false
   },
   "outputs": [
    {
     "name": "stdout",
     "output_type": "stream",
     "text": [
      "[[None, None, None], [None, None, None], [None, None, None], [None, None, None], [None, None, None]]\n"
     ]
    }
   ],
   "source": [
    "d=NM_list(5,3)\n",
    "print d.container"
   ]
  },
  {
   "cell_type": "markdown",
   "metadata": {},
   "source": [
    "## Tasks for FLDb"
   ]
  },
  {
   "cell_type": "code",
   "execution_count": 20,
   "metadata": {
    "collapsed": false
   },
   "outputs": [],
   "source": [
    "ps=[]"
   ]
  },
  {
   "cell_type": "code",
   "execution_count": 21,
   "metadata": {
    "collapsed": false
   },
   "outputs": [
    {
     "name": "stdout",
     "output_type": "stream",
     "text": [
      "path home: /Users/yj/repo/vpsc/vpsc-dev-fld\n"
     ]
    }
   ],
   "source": [
    "\"\"\"\n",
    "reference: http://pymotw.com/2/multiprocessing/communication.html\n",
    "\"\"\"\n",
    "\n",
    "path_vpsc_home = '/Users/yj/repo/vpsc/vpsc-dev-fld'\n",
    "os.chdir(path_vpsc_home)\n",
    "path_home = os.getcwd()\n",
    "\n",
    "print 'path home:',path_home\n",
    "\n",
    "class FLDbTask(object):\n",
    "    def __init__(self,path_work=None,f0=0.990,psi0=0.,fn_tar_FLDa=None,iprobe=0):\n",
    "        \"\"\"\n",
    "        \"\"\"\n",
    "        self.path_home=os.getcwd()\n",
    "        ## create working folder\n",
    "        self.create_working_folder(path_work,f0,psi0,fn_tar_FLDa,iprobe)\n",
    "        pass\n",
    "    def create_working_folder(\n",
    "            self,path_work=None,f0=0.990,psi0=0.,\n",
    "            fn_tar_FLDa=None,iprobe=0):\n",
    "        \"\"\"\n",
    "        Assign worker's duties\n",
    "        The worker should create 'vpsc7.in' input\n",
    "        according to the linear paths given to him/her.\n",
    "        \n",
    "        Arguments\n",
    "        =========\n",
    "        path_work   = None\n",
    "        f0          = 0.990\n",
    "        psi0        = 0.\n",
    "        fn_tar_FLDa = None\n",
    "        iprobe      = 0    (according to the order of region_a_??.tar)\n",
    "        \"\"\"\n",
    "        from fld import fld_post_probe2\n",
    "        if not(os.path.isfile(fn_tar_FLDa)):\n",
    "            raise IOError, 'Failed to find %s'%fn_tar_FLDa\n",
    "        self.tf_a=fn_tar_FLDa\n",
    "\n",
    "\n",
    "        self.path_temp = tempfile.mkdtemp(dir='/tmp',prefix='VPSCFLD-tarx-')\n",
    "        memb  = 'fld_a_rst_%2.2i.tar'%iprobe\n",
    "        cmd   = 'tar -C %s -xf %s %s'%(self.path_temp, self.tf_a, memb)\n",
    "        iflag = os.system(cmd)\n",
    "        if iflag!=0: raise IOError\n",
    "        cmd   = 'tar -C %s -xf %s region_a.bin'%(self.path_temp, os.path.join(self.path_temp,memb))\n",
    "        iflag = os.system(cmd) \n",
    "        if iflag!=0: raise IOError, 'Could not find region_a.bin'\n",
    "\n",
    "        if path_work==None:\n",
    "            self.path_work= tempfile.mkdtemp(\n",
    "                dir='/tmp', prefix='VPSCFLDb-f%5.3f-r%2.2i-p%2.2i-'%(f0,iprobe,psi0))\n",
    "        else: self.path_work = path_work\n",
    "        shutil.move(os.path.join(self.path_temp,'region_a.bin'), self.path_work)\n",
    "        shutil.rmtree(self.path_temp)\n",
    "        write_FLDnu(dst=self.path_work,\n",
    "                        limit_factor=10,\n",
    "                        njacob_cal=1,\n",
    "                        dx_jac=1e-04,\n",
    "                        err_fi=1e-01,\n",
    "                        err_vi=1e-07,\n",
    "                        max_iter=20)\n",
    "        #               f0,psi0,src_path,      dst,          *fns\n",
    "        fld_post_probe2(f0,psi0,path_vpsc_home,self.path_work,\n",
    "                        os.path.join(path_vpsc_home,'vpsc'),\n",
    "                        os.path.join(path_vpsc_home,'find_rhos')\n",
    "                        )\n",
    "        os.chdir(path_home)\n",
    "        \n",
    "    def run(self,bufsize=10,rt=False):\n",
    "        \"\"\"\n",
    "        Execute VPSC and piping stdout        \n",
    "        write stdout stream to subprocess.PIPE\n",
    "\n",
    "        Arguments\n",
    "        ========\n",
    "        bufsize = 10 (bufsize for 'vpsc' stdout through subprocess.Popen)\n",
    "        rt      = False (realtime monitor flag)\n",
    "                  if True, create, self.p_rt that runs the wrapper for realtime_monitor\n",
    "        \"\"\"\n",
    "        import multiprocessing as mp\n",
    "        ## change dir to self.path_work\n",
    "        os.chdir(self.path_work)\n",
    "        ## Construct pipe lines and relevant file objects\n",
    "        self.stdout_fo = open('stdout.out','w') ## stdout file object\n",
    "        self.stderr = open('stderr.out','w')\n",
    "        ## initialize 'shared' lists that contain stress and strain.\n",
    "        self.sigmaa = []; self.sigmab = []\n",
    "        self.epsilona = []; self.epsilonb = []\n",
    "        self.psi = []; self.f = []\n",
    "        ## create a pipe line\n",
    "        self.p = subprocess.Popen(['./vpsc'],stdout=subprocess.PIPE,\n",
    "                                  stderr=self.stderr,bufsize=bufsize)\n",
    "        self.pid = self.p.pid\n",
    "        print 'pid:', self.pid\n",
    "        self.stdout = self.p.stdout\n",
    "        \n",
    "        self.wrap_rt_monit(dt=0.1)\n",
    "        ## running wrap_rt_monit as a subprocess?\n",
    "        ## ---- MyTask.wrap_rt_monit(dt=0.1)\n",
    "        #self.p_monit = mp.Process(target=self.wrap_rt_monit)\n",
    "        #self.p_monit.start()\n",
    "        #self.p_monit.join()\n",
    "        os.chdir(self.path_home)\n",
    "        \n",
    "    def wrap_rt_monit(self,term_e1=1.,monit_timeout=36000,dt=0.1):\n",
    "        \"\"\"\n",
    "        Wrapper for real time monitor\n",
    "        \n",
    "        term_e1=1.\n",
    "        dt=0.1\n",
    "        monit_timeout = 36000 (timeout for wrap_rt_monit per ce)\n",
    "        \"\"\"\n",
    "        t0=time.time();exit=False\n",
    "        while not(exit):\n",
    "            self.realtime_monitor(term_e1=term_e1,\n",
    "                                  dt=dt,nbuf=10,timeout=None)\n",
    "            if time.time()-t0>monit_timeout:\n",
    "                print 'Wraning: Timeout in self.wrap_rt_monit excedding ',\\\n",
    "                        monit_timeout\n",
    "                exit=True\n",
    "            if not(exit):\n",
    "                if self.p.poll()!=None: exit=True\n",
    "                    \n",
    "\n",
    "    def kill(self): self.p.kill\n",
    "    def terminate(self): self.p.terminate()\n",
    "    def rm(self): shutil.rmtree(self.path_work)\n",
    "    def remove(self): self.rm()\n",
    "    def readlines(self,nbuf=10,verbose=False,f_crit=10.):\n",
    "        \"\"\"\n",
    "        Read <nbuf> number of lines from self.stdout\n",
    "        \n",
    "        Arguments\n",
    "        =========\n",
    "        nbuf=10.\n",
    "        verbose=False\n",
    "        f_crit=10.\n",
    "        \"\"\"\n",
    "        for i in range(nbuf):\n",
    "            rl=self.stdout.readline()\n",
    "            #print rl\n",
    "            self.stdout_fo.write(rl)\n",
    "            line = rl.split('\\n')[0]\n",
    "\n",
    "            try:\n",
    "                a,b=line.split('||')\n",
    "            except:\n",
    "                \"\"\"\n",
    "                1) Either head streams from VPSC\n",
    "                2) or streams dealing with vi-NR iteration\n",
    "                \"\"\"\n",
    "                d=line.split()                \n",
    "                pass\n",
    "            \n",
    "            else:\n",
    "                adat, bdat=a.split(), b.split()\n",
    "                f = float(bdat[9])\n",
    "                if f>f_crit and abs(f)>abs(f_crit*1.5):\n",
    "                    print 'Fail [2]'\n",
    "                    e11_a, e22_a, e12_a, s11_a, s22_a, s12_a, \\\n",
    "                    e11_b, e22_b, e12_b, s11_b, s22_b, s22_b, psi=\\\n",
    "                    np.nan,np.nan,np.nan,np.nan,np.nan,np.nan,\\\n",
    "                    np.nan,np.nan,np.nan,np.nan,np.nan,np.nan,np.nan\n",
    "                    ifail=True\n",
    "                    self.stdout_fo.close()\n",
    "                else:\n",
    "                    e11_a, e22_a, e12_a, s11_a, s22_a, s12_a = \\\n",
    "                    map(float,[adat[1],adat[2],adat[4],adat[5],adat[6],adat[8]])\n",
    "                    e11_b, e22_b, e12_b, s11_b, s22_b, s12_b = \\\n",
    "                    map(float,[bdat[0],bdat[1],bdat[3],bdat[4],bdat[5],bdat[7]])\n",
    "                    psi = float(bdat[10])\n",
    "                    \n",
    "                    #print e11_a,e22_a,e12_a,s11_a,s22_a,s12_a,f,psi\n",
    "\n",
    "                #if verbose:\n",
    "                #    #print e11_a, e22_a,e12_a, e11_b,e22_b,e12_b\n",
    "                self.epsilona.append([e11_a,e22_a,-e11_a-e22_a,0,0,e12_a])\n",
    "                self.epsilonb.append([e11_b,e22_b,-e11_b-e22_b,0,0,e12_b])\n",
    "                self.sigmaa.append([s11_a,s22_a,0,0,0,s12_a])\n",
    "                self.sigmab.append([s11_b,s22_b,0,0,0,s12_b])\n",
    "                self.psi.append(psi)\n",
    "                self.f.append(f)\n",
    "\n",
    "    def realtime_monitor(self,term_e1=0.1,dt=1,nbuf=10,timeout=None):\n",
    "        \"\"\"\n",
    "        Monitoring stress-strain, if p terminates\n",
    "        prior to given term_e1 exit right off.\n",
    "\n",
    "        Arguments\n",
    "        =========\n",
    "        term_evm = 0.1\n",
    "        dt       = 5\n",
    "        nbuf     = 10\n",
    "        timeout  = None\n",
    "        \"\"\"\n",
    "        t0=time.time()\n",
    "        iexit=False\n",
    "        while not(iexit):\n",
    "            t1=time.time(); elps = t1-t0\n",
    "            uet(elps,False,'Total elapsed time')\n",
    "            ## risk that self.readlines may not work properly\n",
    "            self.readlines(nbuf=nbuf)\n",
    "            try: \n",
    "                dum=self.fc.nstp\n",
    "            except: pass\n",
    "            else:\n",
    "                try: \n",
    "                    e11_a = self.epsilona[-1][0]\n",
    "                except:pass\n",
    "                else:\n",
    "                    if e11_a>=term_e1:\n",
    "                        self.p.kill()\n",
    "                        iexit = True\n",
    "            if self.p.poll()!=None:\n",
    "                iexit=True\n",
    "                self.stdout_fo.close()\n",
    "                pass\n",
    "            if timeout!=None: \n",
    "                #print 'Warning: Time-out in realtime_monitor'\n",
    "                if time.time()-t0>timeout: iexit=True\n",
    "            if not(iexit): time.sleep(dt)\n",
    "\n",
    "    def update_fc(self):\n",
    "        \"\"\"\n",
    "        Update flow stress/strain data\n",
    "        \"\"\"\n",
    "        epsa,siga = np.array(self.epsilona).T, np.array(self.sigmaa).T\n",
    "        self.fc_a = FlowCurve()\n",
    "        self.fc_a.get_6strain(epsa)\n",
    "        self.fc_a.get_6stress(siga)\n",
    "        \n",
    "        epsb,sigb = np.array(self.epsilonb).T, np.array(self.sigmab).T\n",
    "        self.fc_b = FlowCurve()\n",
    "        self.fc_b.get_6strain(epsb)\n",
    "        self.fc_b.get_6stress(sigb)\n",
    "        \n",
    "    def returncode(self):\n",
    "        return p.returncode"
   ]
  },
  {
   "cell_type": "code",
   "execution_count": 22,
   "metadata": {
    "collapsed": false
   },
   "outputs": [
    {
     "name": "stdout",
     "output_type": "stream",
     "text": [
      "VPSCFLDb-vpscin-534FkX.tar     VPSCFLDb-vpscin-KwvDvn.tar     fld_a_rst_00.tar               fld_a_rst_01.tar               fld_a_rst_02.tar               fld_a_rst_20150305_JyjeTz.tar\r\n"
     ]
    }
   ],
   "source": [
    "ls *.tar"
   ]
  },
  {
   "cell_type": "markdown",
   "metadata": {},
   "source": [
    "## Serial calulcation example"
   ]
  },
  {
   "cell_type": "code",
   "execution_count": 23,
   "metadata": {
    "collapsed": false
   },
   "outputs": [
    {
     "name": "stdout",
     "output_type": "stream",
     "text": [
      "making up VPSC7.in in: /tmp/VPSCFLDb-f0.990-r01-p05-XjxVNr/vpsc7.in\n"
     ]
    }
   ],
   "source": [
    "os.chdir(path_vpsc_home)\n",
    "MyTask=FLDbTask(path_work=None,f0=0.990,psi0=5.,fn_tar_FLDa='fld_a_rst_20150305_JyjeTz.tar',iprobe=1)"
   ]
  },
  {
   "cell_type": "code",
   "execution_count": 24,
   "metadata": {
    "collapsed": false
   },
   "outputs": [
    {
     "name": "stdout",
     "output_type": "stream",
     "text": [
      "making up VPSC7.in in: /tmp/VPSCFLDb-f0.990-r01-p05-df1fch/vpsc7.in\n",
      "pid: 72238\n",
      "Total elapsed time: 25 [sec]\n",
      "[[0.338, 0.0, -0.338, 0, 0, 0.0]]\n",
      "making up VPSC7.in in: /tmp/VPSCFLDb-f0.990-r02-p15-8Ocuhx/vpsc7.in\n",
      "pid: 72294\n",
      "Total elapsed time: 25 [sec]\n",
      "[[0.371, 0.1855, -0.5565, 0, 0, 0.0]]\n"
     ]
    }
   ],
   "source": [
    "os.chdir(path_vpsc_home)\n",
    "MyTask=FLDbTask(path_work=None,f0=0.990,psi0=5.,fn_tar_FLDa='fld_a_rst_20150305_JyjeTz.tar',iprobe=1)\n",
    "## MyTask run starts\n",
    "MyTask.run() ## reading stdout is inluced in self.run\n",
    "print '\\n',MyTask.epsilona[-1::]\n",
    "MyTask.rm()\n",
    "\n",
    "## serial\n",
    "MyTask=FLDbTask(path_work=None,f0=0.990,psi0=15.,fn_tar_FLDa='fld_a_rst_20150305_JyjeTz.tar',iprobe=2)\n",
    "## MyTask run starts\n",
    "MyTask.run() ## reading stdout is inluced in self.run\n",
    "print '\\n',MyTask.epsilona[-1::]\n",
    "MyTask.rm()\n"
   ]
  },
  {
   "cell_type": "code",
   "execution_count": 24,
   "metadata": {
    "collapsed": false
   },
   "outputs": [],
   "source": []
  },
  {
   "cell_type": "code",
   "execution_count": 24,
   "metadata": {
    "collapsed": false
   },
   "outputs": [],
   "source": []
  },
  {
   "cell_type": "markdown",
   "metadata": {},
   "source": [
    "# Based on multiprocessing Queue"
   ]
  },
  {
   "cell_type": "code",
   "execution_count": 25,
   "metadata": {
    "collapsed": false
   },
   "outputs": [
    {
     "name": "stdout",
     "output_type": "stream",
     "text": [
      "making up VPSC7.in in: /tmp/VPSCFLDb-f0.990-r02-p20-kIbhCR/vpsc7.in\n",
      "pid: 72373\n",
      "\r",
      "Total elapsed time: 00 [sec]\r",
      "Total elapsed time: 00 [sec]\r",
      "Total elapsed time: 00 [sec]\r",
      "Total elapsed time: 00 [sec]\r",
      "Total elapsed time: 00 [sec]\r",
      "Total elapsed time: 00 [sec]\r",
      "Total elapsed time: 01 [sec]\r",
      "Total elapsed time: 01 [sec]\r",
      "Total elapsed time: 01 [sec]\r",
      "Total elapsed time: 01 [sec]\r",
      "Total elapsed time: 01 [sec]\r",
      "Total elapsed time: 01 [sec]\r",
      "Total elapsed time: 01 [sec]\r",
      "Total elapsed time: 02 [sec]\r",
      "Total elapsed time: 02 [sec]\r",
      "Total elapsed time: 02 [sec]\r",
      "Total elapsed time: 02 [sec]\r",
      "Total elapsed time: 02 [sec]\r",
      "Total elapsed time: 02 [sec]\r",
      "Total elapsed time: 02 [sec]\r",
      "Total elapsed time: 03 [sec]\r",
      "Total elapsed time: 03 [sec]\r",
      "Total elapsed time: 03 [sec]\r",
      "Total elapsed time: 03 [sec]\r",
      "Total elapsed time: 03 [sec]\r",
      "Total elapsed time: 03 [sec]\r",
      "Total elapsed time: 03 [sec]\r",
      "Total elapsed time: 04 [sec]\r",
      "Total elapsed time: 04 [sec]\r",
      "Total elapsed time: 04 [sec]\r",
      "Total elapsed time: 04 [sec]\r",
      "Total elapsed time: 04 [sec]\r",
      "Total elapsed time: 05 [sec]\r",
      "Total elapsed time: 05 [sec]\r",
      "Total elapsed time: 05 [sec]\r",
      "Total elapsed time: 05 [sec]\r",
      "Total elapsed time: 05 [sec]\r",
      "Total elapsed time: 06 [sec]\r",
      "Total elapsed time: 06 [sec]\r",
      "Total elapsed time: 06 [sec]\r",
      "Total elapsed time: 06 [sec]\r",
      "Total elapsed time: 06 [sec]\r",
      "Total elapsed time: 07 [sec]\r",
      "Total elapsed time: 07 [sec]\r",
      "Total elapsed time: 07 [sec]\r",
      "Total elapsed time: 07 [sec]\r",
      "Total elapsed time: 07 [sec]\r",
      "Total elapsed time: 08 [sec]\r",
      "Total elapsed time: 08 [sec]\r",
      "Total elapsed time: 08 [sec]\r",
      "Total elapsed time: 08 [sec]\r",
      "Total elapsed time: 08 [sec]\r",
      "Total elapsed time: 08 [sec]\r",
      "Total elapsed time: 09 [sec]\r",
      "Total elapsed time: 09 [sec]\r",
      "Total elapsed time: 09 [sec]\r",
      "Total elapsed time: 09 [sec]\r",
      "Total elapsed time: 09 [sec]\r",
      "Total elapsed time: 10 [sec]\r",
      "Total elapsed time: 10 [sec]\r",
      "Total elapsed time: 10 [sec]\r",
      "Total elapsed time: 10 [sec]\r",
      "Total elapsed time: 10 [sec]\r",
      "Total elapsed time: 11 [sec]\r",
      "Total elapsed time: 11 [sec]\r",
      "Total elapsed time: 11 [sec]\r",
      "Total elapsed time: 11 [sec]\r",
      "Total elapsed time: 11 [sec]\r",
      "Total elapsed time: 11 [sec]\r",
      "Total elapsed time: 11 [sec]\r",
      "Total elapsed time: 11 [sec]\r",
      "Total elapsed time: 12 [sec]\r",
      "Total elapsed time: 12 [sec]\r",
      "Total elapsed time: 12 [sec]\r",
      "Total elapsed time: 12 [sec]\r",
      "Total elapsed time: 12 [sec]\r",
      "Total elapsed time: 12 [sec]\r",
      "Total elapsed time: 12 [sec]\r",
      "Total elapsed time: 12 [sec]\r",
      "Total elapsed time: 12 [sec]\r",
      "Total elapsed time: 13 [sec]\r",
      "Total elapsed time: 13 [sec]\r",
      "Total elapsed time: 13 [sec]\r",
      "Total elapsed time: 13 [sec]\r",
      "Total elapsed time: 13 [sec]\r",
      "Total elapsed time: 13 [sec]\r",
      "Total elapsed time: 13 [sec]\r",
      "Total elapsed time: 13 [sec]\r",
      "Total elapsed time: 14 [sec]\r",
      "Total elapsed time: 14 [sec]\r",
      "Total elapsed time: 14 [sec]\r",
      "Total elapsed time: 14 [sec]\r",
      "Total elapsed time: 14 [sec]\r",
      "Total elapsed time: 14 [sec]\r",
      "Total elapsed time: 14 [sec]\r",
      "Total elapsed time: 14 [sec]\r",
      "Total elapsed time: 14 [sec]\r",
      "Total elapsed time: 15 [sec]\r",
      "Total elapsed time: 15 [sec]\r",
      "Total elapsed time: 15 [sec]\r",
      "Total elapsed time: 15 [sec]\r",
      "Total elapsed time: 15 [sec]\r",
      "Total elapsed time: 15 [sec]\r",
      "Total elapsed time: 15 [sec]\r",
      "Total elapsed time: 15 [sec]\r",
      "Total elapsed time: 15 [sec]\r",
      "Total elapsed time: 16 [sec]\r",
      "Total elapsed time: 16 [sec]\r",
      "Total elapsed time: 16 [sec]\r",
      "Total elapsed time: 16 [sec]\r",
      "Total elapsed time: 16 [sec]\r",
      "Total elapsed time: 16 [sec]\r",
      "Total elapsed time: 17 [sec]\r",
      "Total elapsed time: 17 [sec]\r",
      "Total elapsed time: 17 [sec]\r",
      "Total elapsed time: 17 [sec]\r",
      "Total elapsed time: 17 [sec]\r",
      "Total elapsed time: 17 [sec]\r",
      "Total elapsed time: 18 [sec]\r",
      "Total elapsed time: 18 [sec]\r",
      "Total elapsed time: 18 [sec]\r",
      "Total elapsed time: 18 [sec]\r",
      "Total elapsed time: 18 [sec]\r",
      "Total elapsed time: 19 [sec]\r",
      "Total elapsed time: 19 [sec]\r",
      "Total elapsed time: 19 [sec]\r",
      "Total elapsed time: 19 [sec]\r",
      "Total elapsed time: 19 [sec]\r",
      "Total elapsed time: 19 [sec]\r",
      "Total elapsed time: 20 [sec]\r",
      "Total elapsed time: 20 [sec]\r",
      "Total elapsed time: 20 [sec]\r",
      "Total elapsed time: 20 [sec]\r",
      "Total elapsed time: 20 [sec]\r",
      "Total elapsed time: 20 [sec]\r",
      "Total elapsed time: 20 [sec]\r",
      "Total elapsed time: 21 [sec]\r",
      "Total elapsed time: 21 [sec]\r",
      "Total elapsed time: 21 [sec]\r",
      "Total elapsed time: 21 [sec]\r",
      "Total elapsed time: 21 [sec]\r",
      "Total elapsed time: 21 [sec]\r",
      "Total elapsed time: 21 [sec]\r",
      "Total elapsed time: 22 [sec]\r",
      "Total elapsed time: 22 [sec]\r",
      "Total elapsed time: 22 [sec]\r",
      "Total elapsed time: 22 [sec]\r",
      "Total elapsed time: 22 [sec]\r",
      "Total elapsed time: 22 [sec]\r",
      "Total elapsed time: 22 [sec]\r",
      "Total elapsed time: 23 [sec]\r",
      "Total elapsed time: 23 [sec]\r",
      "Total elapsed time: 23 [sec]\r",
      "Total elapsed time: 23 [sec]\r",
      "Total elapsed time: 23 [sec]\r",
      "Total elapsed time: 23 [sec]\r",
      "Total elapsed time: 23 [sec]\r",
      "Total elapsed time: 23 [sec]\r",
      "Total elapsed time: 23 [sec]\r",
      "Total elapsed time: 24 [sec]\r",
      "Total elapsed time: 24 [sec]\r",
      "Total elapsed time: 24 [sec]\r",
      "Total elapsed time: 24 [sec]\r",
      "Total elapsed time: 24 [sec]\r",
      "Total elapsed time: 24 [sec]\r",
      "Total elapsed time: 24 [sec]\r",
      "Total elapsed time: 25 [sec]\r",
      "Total elapsed time: 25 [sec]\r",
      "Total elapsed time: 25 [sec]\r",
      "Total elapsed time: 25 [sec]\r",
      "Total elapsed time: 26 [sec]\r",
      "Total elapsed time: 26 [sec]\r",
      "Total elapsed time: 26 [sec]\r",
      "Total elapsed time: 27 [sec]\r",
      "Total elapsed time: 27 [sec]\r",
      "Total elapsed time: 27 [sec]"
     ]
    }
   ],
   "source": [
    "os.chdir(path_vpsc_home)\n",
    "def worker(q):\n",
    "    obj=q.get()\n",
    "    obj.run()\n",
    "    \n",
    "    \n",
    "queue=multiprocessing.Queue()\n",
    "\n",
    "p=multiprocessing.Process(target=worker,args=(queue,))\n",
    "p.start()\n",
    "queue.put(FLDbTask(path_work=None,f0=0.990,psi0=20.,\n",
    "                   fn_tar_FLDa='fld_a_rst_20150305_JyjeTz.tar',\n",
    "                   iprobe=2))\n",
    "\n",
    "# wait for the worker to finish\n",
    "queue.close()\n",
    "queue.join_thread()\n",
    "p.join()"
   ]
  },
  {
   "cell_type": "code",
   "execution_count": 25,
   "metadata": {
    "collapsed": false
   },
   "outputs": [],
   "source": []
  },
  {
   "cell_type": "markdown",
   "metadata": {},
   "source": [
    "# Joinable Que"
   ]
  },
  {
   "cell_type": "code",
   "execution_count": 53,
   "metadata": {
    "collapsed": false
   },
   "outputs": [
    {
     "ename": "NameError",
     "evalue": "name 'logging' is not defined",
     "output_type": "error",
     "traceback": [
      "\u001b[0;31m---------------------------------------------------------------------------\u001b[0m\n\u001b[0;31mNameError\u001b[0m                                 Traceback (most recent call last)",
      "\u001b[0;32m<ipython-input-53-5c00b32a74d6>\u001b[0m in \u001b[0;36m<module>\u001b[0;34m()\u001b[0m\n\u001b[1;32m      1\u001b[0m \u001b[0;32mimport\u001b[0m \u001b[0mmultiprocessing\u001b[0m \u001b[0;32mas\u001b[0m \u001b[0mmp\u001b[0m\u001b[0;34m\u001b[0m\u001b[0m\n\u001b[0;32m----> 2\u001b[0;31m \u001b[0mlogger\u001b[0m \u001b[0;34m=\u001b[0m \u001b[0mmp\u001b[0m\u001b[0;34m.\u001b[0m\u001b[0mlog_to_stderr\u001b[0m\u001b[0;34m(\u001b[0m\u001b[0mlogging\u001b[0m\u001b[0;34m.\u001b[0m\u001b[0mINFO\u001b[0m\u001b[0;34m)\u001b[0m\u001b[0;34m\u001b[0m\u001b[0m\n\u001b[0m\u001b[1;32m      3\u001b[0m \u001b[0;34m\u001b[0m\u001b[0m\n\u001b[1;32m      4\u001b[0m \u001b[0mos\u001b[0m\u001b[0;34m.\u001b[0m\u001b[0mchdir\u001b[0m\u001b[0;34m(\u001b[0m\u001b[0mpath_vpsc_home\u001b[0m\u001b[0;34m)\u001b[0m\u001b[0;34m\u001b[0m\u001b[0m\n\u001b[1;32m      5\u001b[0m \u001b[0;34m\u001b[0m\u001b[0m\n",
      "\u001b[0;31mNameError\u001b[0m: name 'logging' is not defined"
     ]
    }
   ],
   "source": [
    "import multiprocessing as mp\n",
    "logger = mp.log_to_stderr(logging.INFO)\n",
    "\n",
    "os.chdir(path_vpsc_home)\n",
    "\n",
    "class Consumer(multiprocessing.Process):\n",
    "    def __init__(self, task_queue, result_queue):\n",
    "        multiprocessing.Process.__init__(self)\n",
    "        self.task_queue = task_queue\n",
    "        self.result_queue = result_queue\n",
    "\n",
    "    def run(self):\n",
    "        proc_name = self.name\n",
    "        while True:\n",
    "            next_task = self.task_queue.get()\n",
    "            if next_task is None:\n",
    "                # Poison pill means shutdown\n",
    "                print '%s: Exiting' % proc_name\n",
    "                self.task_queue.task_done()\n",
    "                break\n",
    "            print '%s: %s' % (proc_name, next_task)\n",
    "            answer = next_task()\n",
    "            self.task_queue.task_done()\n",
    "            self.result_queue.put(answer)\n",
    "        return\n",
    "\n",
    "## FLDb tasks           \n",
    "class Task(object):\n",
    "    def __init__(self,path_work=None,f0=0.990,psi0=5.,\n",
    "                 fn_tar_FLDa='fld_a_rst_20150305_JyjeTz.tar',iprobe=2):\n",
    "        self.path_work=None\n",
    "        self.f0=f0\n",
    "        self.psi0=psi0\n",
    "        self.fn_tar_FLDa=fn_tar_FLDa\n",
    "        self.iprobe=iprobe\n",
    "#        pass\n",
    "#    def __call__(self):\n",
    "        self.MyTask=FLDbTask(self.path_work,self.f0,self.psi0,self.fn_tar_FLDa,self.iprobe)\n",
    "        ## MyTask run starts\n",
    "        self.MyTask.run() ## reading stdout is inluced in self.run\n",
    "        return self.MyTask.epsilona[-1]\n",
    "    def __str__(self):\n",
    "        return \"f: %5.3f  psi0: %2.2i   iprobe: %2.2i\"%(self.f0,self.psi0,self.iprobe)\n",
    "\n",
    "# Establish communication queues\n",
    "tasks = multiprocessing.JoinableQueue()\n",
    "results = multiprocessing.Queue()\n",
    "    \n",
    "# Start consumers\n",
    "num_consumers = 2 #multiprocessing.cpu_count() * 2\n",
    "print 'Creating %d consumers' % num_consumers\n",
    "consumers = [Consumer(tasks, results)\n",
    "              for i in xrange(num_consumers)]\n",
    "print 'Consumers created'\n",
    "for w in consumers:\n",
    "    print 'Started:', w\n",
    "    w.start()\n",
    "\n",
    "# Enqueue jobs\n",
    "num_jobs = 2\n",
    "all_tasks=[]\n",
    "for i in xrange(num_jobs):\n",
    "    #tasks.put(Task(path_work=None,f0=0.990,psi0=0.,fn_tar_FLDa='fld_a_rst_20150305_JyjeTz.tar',iprobe=i))\n",
    "    t=Task(path_work=None,f0=0.990,psi0=0.,fn_tar_FLDa='fld_a_rst_20150305_JyjeTz.tar',iprobe=i)\n",
    "    all_tasks.append(t)\n",
    "    tasks.put(t)\n",
    "    \n",
    "# Add a poison pill for each consumer\n",
    "for i in xrange(num_consumers):\n",
    "    tasks.put(None)\n",
    "\n",
    "#t0=time.time();exit=False\n",
    "#while not(exit):\n",
    "#    for \n",
    "\n",
    "## Wait for all of the tasks to finish\n",
    "#tasks.join()\n",
    "    \n",
    "## Start printing results\n",
    "#while num_jobs:\n",
    "#    result = results.get()\n",
    "#    print 'Result:', result\n",
    "#    num_jobs -= 1\n",
    "    "
   ]
  },
  {
   "cell_type": "code",
   "execution_count": 51,
   "metadata": {
    "collapsed": false
   },
   "outputs": [
    {
     "name": "stdout",
     "output_type": "stream",
     "text": [
      "Help on Task in module __main__ object:\n",
      "\n",
      "class Task(__builtin__.object)\n",
      " |  Methods defined here:\n",
      " |  \n",
      " |  __call__(self)\n",
      " |  \n",
      " |  __init__(self, path_work=None, f0=0.99, psi0=5.0, fn_tar_FLDa='fld_a_rst_20150305_JyjeTz.tar', iprobe=2)\n",
      " |  \n",
      " |  __str__(self)\n",
      " |  \n",
      " |  ----------------------------------------------------------------------\n",
      " |  Data descriptors defined here:\n",
      " |  \n",
      " |  __dict__\n",
      " |      dictionary for instance variables (if defined)\n",
      " |  \n",
      " |  __weakref__\n",
      " |      list of weak references to the object (if defined)\n",
      " |  \n",
      " |  ----------------------------------------------------------------------\n",
      " |  Data and other attributes defined here:\n",
      " |  \n",
      " |  __slotnames__ = []\n",
      "\n"
     ]
    }
   ],
   "source": [
    "help(all_tasks[0])"
   ]
  },
  {
   "cell_type": "code",
   "execution_count": 34,
   "metadata": {
    "collapsed": false
   },
   "outputs": [
    {
     "name": "stdout",
     "output_type": "stream",
     "text": [
      "\r",
      "Total elapsed time: 33 [sec]\r",
      "Total elapsed time: 34 [sec]"
     ]
    }
   ],
   "source": []
  },
  {
   "cell_type": "code",
   "execution_count": 34,
   "metadata": {
    "collapsed": false
   },
   "outputs": [],
   "source": []
  },
  {
   "cell_type": "code",
   "execution_count": 33,
   "metadata": {
    "collapsed": false
   },
   "outputs": [
    {
     "name": "stdout",
     "output_type": "stream",
     "text": [
      "\r",
      "Total elapsed time: 09 [sec]\r",
      "Total elapsed time: 10 [sec]\r",
      "Total elapsed time: 10 [sec]\r",
      "Total elapsed time: 10 [sec]"
     ]
    }
   ],
   "source": []
  },
  {
   "cell_type": "code",
   "execution_count": 33,
   "metadata": {
    "collapsed": false
   },
   "outputs": [
    {
     "name": "stdout",
     "output_type": "stream",
     "text": [
      "\r",
      "Total elapsed time: 10 [sec]\r",
      "Total elapsed time: 10 [sec]"
     ]
    }
   ],
   "source": []
  },
  {
   "cell_type": "code",
   "execution_count": 33,
   "metadata": {
    "collapsed": false
   },
   "outputs": [],
   "source": []
  },
  {
   "cell_type": "markdown",
   "metadata": {},
   "source": [
    "# Check a job and monitor the stdout real-time."
   ]
  },
  {
   "cell_type": "code",
   "execution_count": 34,
   "metadata": {
    "collapsed": false
   },
   "outputs": [
    {
     "name": "stdout",
     "output_type": "stream",
     "text": [
      "making up VPSC7.in in: /tmp/VPSC-test-Kb1Fo8/vpsc7.in\n",
      "pid: 19778\n",
      "Total elapsed time: 17 [sec]"
     ]
    },
    {
     "ename": "KeyboardInterrupt",
     "evalue": "",
     "output_type": "error",
     "traceback": [
      "\u001b[0;31m---------------------------------------------------------------------------\u001b[0m\n\u001b[0;31mKeyboardInterrupt\u001b[0m                         Traceback (most recent call last)",
      "\u001b[0;32m<ipython-input-34-e5fcb8c13bf6>\u001b[0m in \u001b[0;36m<module>\u001b[0;34m()\u001b[0m\n\u001b[1;32m      3\u001b[0m \u001b[0mMyTask\u001b[0m\u001b[0;34m=\u001b[0m\u001b[0mFLDbTask\u001b[0m\u001b[0;34m(\u001b[0m\u001b[0mpath_work\u001b[0m\u001b[0;34m=\u001b[0m\u001b[0mNone\u001b[0m\u001b[0;34m,\u001b[0m\u001b[0mf0\u001b[0m\u001b[0;34m=\u001b[0m\u001b[0;36m0.990\u001b[0m\u001b[0;34m,\u001b[0m\u001b[0mpsi0\u001b[0m\u001b[0;34m=\u001b[0m\u001b[0;36m5.\u001b[0m\u001b[0;34m,\u001b[0m\u001b[0mfn_tar_FLDa\u001b[0m\u001b[0;34m=\u001b[0m\u001b[0;34m'fld_a_rst_20150305_JyjeTz.tar'\u001b[0m\u001b[0;34m,\u001b[0m\u001b[0miprobe\u001b[0m\u001b[0;34m=\u001b[0m\u001b[0;36m2\u001b[0m\u001b[0;34m)\u001b[0m\u001b[0;34m\u001b[0m\u001b[0m\n\u001b[1;32m      4\u001b[0m \u001b[0;31m## MyTask run starts\u001b[0m\u001b[0;34m\u001b[0m\u001b[0;34m\u001b[0m\u001b[0m\n\u001b[0;32m----> 5\u001b[0;31m \u001b[0mMyTask\u001b[0m\u001b[0;34m.\u001b[0m\u001b[0mrun\u001b[0m\u001b[0;34m(\u001b[0m\u001b[0;34m)\u001b[0m\u001b[0;34m\u001b[0m\u001b[0m\n\u001b[0m\u001b[1;32m      6\u001b[0m \u001b[0;31m#print MyTask.p_monit\u001b[0m\u001b[0;34m\u001b[0m\u001b[0;34m\u001b[0m\u001b[0m\n\u001b[1;32m      7\u001b[0m \u001b[0;32mprint\u001b[0m \u001b[0;34m'# MyTask Path Work:'\u001b[0m\u001b[0;34m,\u001b[0m\u001b[0mMyTask\u001b[0m\u001b[0;34m.\u001b[0m\u001b[0mpath_work\u001b[0m\u001b[0;34m\u001b[0m\u001b[0m\n",
      "\u001b[0;32m<ipython-input-27-f743297f0442>\u001b[0m in \u001b[0;36mrun\u001b[0;34m(self, bufsize, rt)\u001b[0m\n\u001b[1;32m     91\u001b[0m         \u001b[0mself\u001b[0m\u001b[0;34m.\u001b[0m\u001b[0mstdout\u001b[0m \u001b[0;34m=\u001b[0m \u001b[0mself\u001b[0m\u001b[0;34m.\u001b[0m\u001b[0mp\u001b[0m\u001b[0;34m.\u001b[0m\u001b[0mstdout\u001b[0m\u001b[0;34m\u001b[0m\u001b[0m\n\u001b[1;32m     92\u001b[0m \u001b[0;34m\u001b[0m\u001b[0m\n\u001b[0;32m---> 93\u001b[0;31m         \u001b[0mself\u001b[0m\u001b[0;34m.\u001b[0m\u001b[0mwrap_rt_monit\u001b[0m\u001b[0;34m(\u001b[0m\u001b[0mdt\u001b[0m\u001b[0;34m=\u001b[0m\u001b[0;36m0.1\u001b[0m\u001b[0;34m)\u001b[0m\u001b[0;34m\u001b[0m\u001b[0m\n\u001b[0m\u001b[1;32m     94\u001b[0m         \u001b[0;31m## running wrap_rt_monit as a subprocess?\u001b[0m\u001b[0;34m\u001b[0m\u001b[0;34m\u001b[0m\u001b[0m\n\u001b[1;32m     95\u001b[0m         \u001b[0;31m## ---- MyTask.wrap_rt_monit(dt=0.1)\u001b[0m\u001b[0;34m\u001b[0m\u001b[0;34m\u001b[0m\u001b[0m\n",
      "\u001b[0;32m<ipython-input-27-f743297f0442>\u001b[0m in \u001b[0;36mwrap_rt_monit\u001b[0;34m(self, term_e1, monit_timeout, dt)\u001b[0m\n\u001b[1;32m    110\u001b[0m         \u001b[0;32mwhile\u001b[0m \u001b[0;32mnot\u001b[0m\u001b[0;34m(\u001b[0m\u001b[0mexit\u001b[0m\u001b[0;34m)\u001b[0m\u001b[0;34m:\u001b[0m\u001b[0;34m\u001b[0m\u001b[0m\n\u001b[1;32m    111\u001b[0m             self.realtime_monitor(term_e1=term_e1,\n\u001b[0;32m--> 112\u001b[0;31m                                   dt=dt,nbuf=10,timeout=None)\n\u001b[0m\u001b[1;32m    113\u001b[0m             \u001b[0;32mif\u001b[0m \u001b[0mtime\u001b[0m\u001b[0;34m.\u001b[0m\u001b[0mtime\u001b[0m\u001b[0;34m(\u001b[0m\u001b[0;34m)\u001b[0m\u001b[0;34m-\u001b[0m\u001b[0mt0\u001b[0m\u001b[0;34m>\u001b[0m\u001b[0mmonit_timeout\u001b[0m\u001b[0;34m:\u001b[0m\u001b[0;34m\u001b[0m\u001b[0m\n\u001b[1;32m    114\u001b[0m                 \u001b[0;32mprint\u001b[0m \u001b[0;34m'Wraning: Timeout in self.wrap_rt_monit excedding '\u001b[0m\u001b[0;34m,\u001b[0m                        \u001b[0mmonit_timeout\u001b[0m\u001b[0;34m\u001b[0m\u001b[0m\n",
      "\u001b[0;32m<ipython-input-27-f743297f0442>\u001b[0m in \u001b[0;36mrealtime_monitor\u001b[0;34m(self, term_e1, dt, nbuf, timeout)\u001b[0m\n\u001b[1;32m    190\u001b[0m             \u001b[0muet\u001b[0m\u001b[0;34m(\u001b[0m\u001b[0melps\u001b[0m\u001b[0;34m,\u001b[0m\u001b[0mFalse\u001b[0m\u001b[0;34m,\u001b[0m\u001b[0;34m'Total elapsed time'\u001b[0m\u001b[0;34m)\u001b[0m\u001b[0;34m\u001b[0m\u001b[0m\n\u001b[1;32m    191\u001b[0m             \u001b[0;31m## risk that self.readlines may not work properly\u001b[0m\u001b[0;34m\u001b[0m\u001b[0;34m\u001b[0m\u001b[0m\n\u001b[0;32m--> 192\u001b[0;31m             \u001b[0mself\u001b[0m\u001b[0;34m.\u001b[0m\u001b[0mreadlines\u001b[0m\u001b[0;34m(\u001b[0m\u001b[0mnbuf\u001b[0m\u001b[0;34m=\u001b[0m\u001b[0mnbuf\u001b[0m\u001b[0;34m)\u001b[0m\u001b[0;34m\u001b[0m\u001b[0m\n\u001b[0m\u001b[1;32m    193\u001b[0m             \u001b[0;32mtry\u001b[0m\u001b[0;34m:\u001b[0m\u001b[0;34m\u001b[0m\u001b[0m\n\u001b[1;32m    194\u001b[0m                 \u001b[0mdum\u001b[0m\u001b[0;34m=\u001b[0m\u001b[0mself\u001b[0m\u001b[0;34m.\u001b[0m\u001b[0mfc\u001b[0m\u001b[0;34m.\u001b[0m\u001b[0mnstp\u001b[0m\u001b[0;34m\u001b[0m\u001b[0m\n",
      "\u001b[0;32m<ipython-input-27-f743297f0442>\u001b[0m in \u001b[0;36mreadlines\u001b[0;34m(self, nbuf, verbose, f_crit)\u001b[0m\n\u001b[1;32m    133\u001b[0m         \"\"\"\n\u001b[1;32m    134\u001b[0m         \u001b[0;32mfor\u001b[0m \u001b[0mi\u001b[0m \u001b[0;32min\u001b[0m \u001b[0mrange\u001b[0m\u001b[0;34m(\u001b[0m\u001b[0mnbuf\u001b[0m\u001b[0;34m)\u001b[0m\u001b[0;34m:\u001b[0m\u001b[0;34m\u001b[0m\u001b[0m\n\u001b[0;32m--> 135\u001b[0;31m             \u001b[0mrl\u001b[0m\u001b[0;34m=\u001b[0m\u001b[0mself\u001b[0m\u001b[0;34m.\u001b[0m\u001b[0mstdout\u001b[0m\u001b[0;34m.\u001b[0m\u001b[0mreadline\u001b[0m\u001b[0;34m(\u001b[0m\u001b[0;34m)\u001b[0m\u001b[0;34m\u001b[0m\u001b[0m\n\u001b[0m\u001b[1;32m    136\u001b[0m             \u001b[0;31m#print rl\u001b[0m\u001b[0;34m\u001b[0m\u001b[0;34m\u001b[0m\u001b[0m\n\u001b[1;32m    137\u001b[0m             \u001b[0mself\u001b[0m\u001b[0;34m.\u001b[0m\u001b[0mstdout_fo\u001b[0m\u001b[0;34m.\u001b[0m\u001b[0mwrite\u001b[0m\u001b[0;34m(\u001b[0m\u001b[0mrl\u001b[0m\u001b[0;34m)\u001b[0m\u001b[0;34m\u001b[0m\u001b[0m\n",
      "\u001b[0;31mKeyboardInterrupt\u001b[0m: "
     ]
    }
   ],
   "source": [
    "os.chdir(path_vpsc_home)\n",
    "## Testing FLDbTask()\n",
    "MyTask=FLDbTask(path_work=None,f0=0.990,psi0=5.,fn_tar_FLDa='fld_a_rst_20150305_JyjeTz.tar',iprobe=2)\n",
    "## MyTask run starts\n",
    "MyTask.run()\n",
    "#print MyTask.p_monit\n",
    "print '# MyTask Path Work:',MyTask.path_work\n",
    "print '# MyTask pid:', MyTask.pid\n",
    "ps.append(MyTask.p)\n",
    "\n",
    "MyTask.wrap_rt_monit(dt=0.1)"
   ]
  },
  {
   "cell_type": "code",
   "execution_count": 294,
   "metadata": {
    "collapsed": false
   },
   "outputs": [
    {
     "data": {
      "text/plain": [
       "[[0.354, 0.177, -0.5309999999999999, 0, 0, 0.0],\n",
       " [0.355, 0.1775, -0.5325, 0, 0, 0.0]]"
      ]
     },
     "execution_count": 294,
     "metadata": {},
     "output_type": "execute_result"
    }
   ],
   "source": [
    "MyTask.epsilona[-2:]"
   ]
  },
  {
   "cell_type": "code",
   "execution_count": 295,
   "metadata": {
    "collapsed": false
   },
   "outputs": [],
   "source": [
    "#MyTask.epsilona[-1]\n",
    "#MyTask.p.kill()\n",
    "MyTask.rm()"
   ]
  },
  {
   "cell_type": "markdown",
   "metadata": {},
   "source": [
    "# Check a job and submit monitoring as an independent multiprocessing.process"
   ]
  },
  {
   "cell_type": "code",
   "execution_count": 296,
   "metadata": {
    "collapsed": false
   },
   "outputs": [
    {
     "name": "stdout",
     "output_type": "stream",
     "text": [
      "making up VPSC7.in in: /tmp/VPSC-test-jAXcs2/vpsc7.in\n",
      "pid: 18409\n",
      "# MyTask Path Work: /tmp/VPSC-test-jAXcs2\n",
      "# MyTask pid: 18409\n",
      "Total elapsed time: 00 [sec]"
     ]
    }
   ],
   "source": [
    "os.chdir(path_vpsc_home)\n",
    "## Testing FLDbTask()\n",
    "MyTask=FLDbTask(path_work=None,f0=0.990,psi0=5.,fn_tar_FLDa='fld_a_rst_20150305_JyjeTz.tar',iprobe=2)\n",
    "\n",
    "## MyTask run starts\n",
    "MyTask.run()\n",
    "#print MyTask.p_monit\n",
    "print '# MyTask Path Work:',MyTask.path_work\n",
    "print '# MyTask pid:',MyTask.pid\n",
    "ps.append(MyTask.p)\n",
    "#MyTask.realtime_monitor(timeout=5,nbuf=20,dt=0.1)\n",
    "#p_monit= Process(target=MyTask.wrap_rt_monit,)\n",
    "\n",
    "import multiprocessing; reload(multiprocessing)\n",
    "p = multiprocessing.Process(target=MyTask.wrap_rt_monit)\n",
    "p.start()\n",
    "p.join()"
   ]
  },
  {
   "cell_type": "code",
   "execution_count": 297,
   "metadata": {
    "collapsed": false
   },
   "outputs": [
    {
     "data": {
      "text/plain": [
       "<Process(Process-22, stopped)>"
      ]
     },
     "execution_count": 297,
     "metadata": {},
     "output_type": "execute_result"
    }
   ],
   "source": [
    "p"
   ]
  },
  {
   "cell_type": "code",
   "execution_count": 298,
   "metadata": {
    "collapsed": false
   },
   "outputs": [
    {
     "data": {
      "text/plain": [
       "[]"
      ]
     },
     "execution_count": 298,
     "metadata": {},
     "output_type": "execute_result"
    }
   ],
   "source": [
    "MyTask.epsilona[-2::]"
   ]
  },
  {
   "cell_type": "code",
   "execution_count": 248,
   "metadata": {
    "collapsed": false
   },
   "outputs": [
    {
     "name": "stdout",
     "output_type": "stream",
     "text": [
      "<Process(Process-12, stopped)>\n"
     ]
    }
   ],
   "source": [
    "print p"
   ]
  },
  {
   "cell_type": "code",
   "execution_count": null,
   "metadata": {
    "collapsed": false
   },
   "outputs": [],
   "source": []
  },
  {
   "cell_type": "code",
   "execution_count": null,
   "metadata": {
    "collapsed": false
   },
   "outputs": [],
   "source": []
  },
  {
   "cell_type": "code",
   "execution_count": null,
   "metadata": {
    "collapsed": false
   },
   "outputs": [],
   "source": []
  },
  {
   "cell_type": "code",
   "execution_count": null,
   "metadata": {
    "collapsed": false
   },
   "outputs": [],
   "source": []
  },
  {
   "cell_type": "code",
   "execution_count": 150,
   "metadata": {
    "collapsed": false
   },
   "outputs": [],
   "source": []
  },
  {
   "cell_type": "code",
   "execution_count": 151,
   "metadata": {
    "collapsed": false
   },
   "outputs": [
    {
     "name": "stdout",
     "output_type": "stream",
     "text": [
      "Total elapsed time: 04 [sec]"
     ]
    },
    {
     "ename": "KeyboardInterrupt",
     "evalue": "",
     "output_type": "error",
     "traceback": [
      "\u001b[0;31m---------------------------------------------------------------------------\u001b[0m\n\u001b[0;31mKeyboardInterrupt\u001b[0m                         Traceback (most recent call last)",
      "\u001b[0;32m<ipython-input-151-9b248c63ea5b>\u001b[0m in \u001b[0;36m<module>\u001b[0;34m()\u001b[0m\n\u001b[0;32m----> 1\u001b[0;31m \u001b[0mMyTask\u001b[0m\u001b[0;34m.\u001b[0m\u001b[0mrealtime_monitor\u001b[0m\u001b[0;34m(\u001b[0m\u001b[0mtimeout\u001b[0m\u001b[0;34m=\u001b[0m\u001b[0;36m5\u001b[0m\u001b[0;34m,\u001b[0m\u001b[0mnbuf\u001b[0m\u001b[0;34m=\u001b[0m\u001b[0;36m20\u001b[0m\u001b[0;34m,\u001b[0m\u001b[0mdt\u001b[0m\u001b[0;34m=\u001b[0m\u001b[0;36m0.1\u001b[0m\u001b[0;34m)\u001b[0m\u001b[0;34m\u001b[0m\u001b[0m\n\u001b[0m",
      "\u001b[0;32m<ipython-input-146-fb9c5c12ad55>\u001b[0m in \u001b[0;36mrealtime_monitor\u001b[0;34m(self, term_e1, dt, nbuf, timeout)\u001b[0m\n\u001b[1;32m    179\u001b[0m             \u001b[0muet\u001b[0m\u001b[0;34m(\u001b[0m\u001b[0melps\u001b[0m\u001b[0;34m,\u001b[0m\u001b[0mFalse\u001b[0m\u001b[0;34m,\u001b[0m\u001b[0;34m'Total elapsed time'\u001b[0m\u001b[0;34m)\u001b[0m\u001b[0;34m\u001b[0m\u001b[0m\n\u001b[1;32m    180\u001b[0m             \u001b[0;31m## risk that self.readlines may not work properly\u001b[0m\u001b[0;34m\u001b[0m\u001b[0;34m\u001b[0m\u001b[0m\n\u001b[0;32m--> 181\u001b[0;31m             \u001b[0mself\u001b[0m\u001b[0;34m.\u001b[0m\u001b[0mreadlines\u001b[0m\u001b[0;34m(\u001b[0m\u001b[0mnbuf\u001b[0m\u001b[0;34m=\u001b[0m\u001b[0mnbuf\u001b[0m\u001b[0;34m)\u001b[0m\u001b[0;34m\u001b[0m\u001b[0m\n\u001b[0m\u001b[1;32m    182\u001b[0m             \u001b[0;32mtry\u001b[0m\u001b[0;34m:\u001b[0m\u001b[0;34m\u001b[0m\u001b[0m\n\u001b[1;32m    183\u001b[0m                 \u001b[0mdum\u001b[0m\u001b[0;34m=\u001b[0m\u001b[0mself\u001b[0m\u001b[0;34m.\u001b[0m\u001b[0mfc\u001b[0m\u001b[0;34m.\u001b[0m\u001b[0mnstp\u001b[0m\u001b[0;34m\u001b[0m\u001b[0m\n",
      "\u001b[0;32m<ipython-input-146-fb9c5c12ad55>\u001b[0m in \u001b[0;36mreadlines\u001b[0;34m(self, nbuf, verbose, f_crit)\u001b[0m\n\u001b[1;32m    122\u001b[0m         \"\"\"\n\u001b[1;32m    123\u001b[0m         \u001b[0;32mfor\u001b[0m \u001b[0mi\u001b[0m \u001b[0;32min\u001b[0m \u001b[0mrange\u001b[0m\u001b[0;34m(\u001b[0m\u001b[0mnbuf\u001b[0m\u001b[0;34m)\u001b[0m\u001b[0;34m:\u001b[0m\u001b[0;34m\u001b[0m\u001b[0m\n\u001b[0;32m--> 124\u001b[0;31m             \u001b[0mrl\u001b[0m\u001b[0;34m=\u001b[0m\u001b[0mself\u001b[0m\u001b[0;34m.\u001b[0m\u001b[0mstdout\u001b[0m\u001b[0;34m.\u001b[0m\u001b[0mreadline\u001b[0m\u001b[0;34m(\u001b[0m\u001b[0;34m)\u001b[0m\u001b[0;34m\u001b[0m\u001b[0m\n\u001b[0m\u001b[1;32m    125\u001b[0m             \u001b[0;31m#print rl\u001b[0m\u001b[0;34m\u001b[0m\u001b[0;34m\u001b[0m\u001b[0m\n\u001b[1;32m    126\u001b[0m             \u001b[0mself\u001b[0m\u001b[0;34m.\u001b[0m\u001b[0mstdout_fo\u001b[0m\u001b[0;34m.\u001b[0m\u001b[0mwrite\u001b[0m\u001b[0;34m(\u001b[0m\u001b[0mrl\u001b[0m\u001b[0;34m)\u001b[0m\u001b[0;34m\u001b[0m\u001b[0m\n",
      "\u001b[0;31mKeyboardInterrupt\u001b[0m: "
     ]
    }
   ],
   "source": [
    "MyTask.realtime_monitor(timeout=5,nbuf=20,dt=0.1)"
   ]
  },
  {
   "cell_type": "code",
   "execution_count": null,
   "metadata": {
    "collapsed": false
   },
   "outputs": [],
   "source": [
    "MyTask.epsilona"
   ]
  },
  {
   "cell_type": "code",
   "execution_count": null,
   "metadata": {
    "collapsed": false
   },
   "outputs": [],
   "source": [
    "MyTask.kill()\n",
    "for i in range(len(ps)):\n",
    "    ps[i].kill()"
   ]
  },
  {
   "cell_type": "code",
   "execution_count": 152,
   "metadata": {
    "collapsed": false
   },
   "outputs": [],
   "source": [
    "MyTask.p.kill()"
   ]
  },
  {
   "cell_type": "code",
   "execution_count": null,
   "metadata": {
    "collapsed": false
   },
   "outputs": [],
   "source": []
  },
  {
   "cell_type": "code",
   "execution_count": null,
   "metadata": {
    "collapsed": false
   },
   "outputs": [],
   "source": []
  },
  {
   "cell_type": "code",
   "execution_count": null,
   "metadata": {
    "collapsed": false
   },
   "outputs": [],
   "source": []
  },
  {
   "cell_type": "code",
   "execution_count": null,
   "metadata": {
    "collapsed": false
   },
   "outputs": [],
   "source": []
  },
  {
   "cell_type": "code",
   "execution_count": null,
   "metadata": {
    "collapsed": false
   },
   "outputs": [],
   "source": []
  },
  {
   "cell_type": "code",
   "execution_count": null,
   "metadata": {
    "collapsed": false
   },
   "outputs": [],
   "source": []
  },
  {
   "cell_type": "code",
   "execution_count": null,
   "metadata": {
    "collapsed": false
   },
   "outputs": [],
   "source": []
  },
  {
   "cell_type": "code",
   "execution_count": null,
   "metadata": {
    "collapsed": false
   },
   "outputs": [],
   "source": []
  },
  {
   "cell_type": "code",
   "execution_count": null,
   "metadata": {
    "collapsed": false
   },
   "outputs": [],
   "source": []
  },
  {
   "cell_type": "code",
   "execution_count": null,
   "metadata": {
    "collapsed": false
   },
   "outputs": [],
   "source": []
  },
  {
   "cell_type": "code",
   "execution_count": null,
   "metadata": {
    "collapsed": false
   },
   "outputs": [],
   "source": []
  },
  {
   "cell_type": "code",
   "execution_count": 360,
   "metadata": {
    "collapsed": false
   },
   "outputs": [
    {
     "name": "stdout",
     "output_type": "stream",
     "text": [
      "/tmp/VPSC-test-Nph3FC\n",
      "pid: 66726\n",
      "pid: 66727\n"
     ]
    }
   ],
   "source": [
    "os.chdir(path_vpsc_home)\n",
    "class TaskManager:\n",
    "    \"\"\"\n",
    "    Task belonging to the same paths with various angles.\n",
    "    \"\"\"\n",
    "    def __init__(self):\n",
    "        self.tasks=[]\n",
    "        pass\n",
    "    def givetask(self,*tasks):\n",
    "        for task in tasks:\n",
    "            self.tasks.append(task)\n",
    "    def run(self):\n",
    "        for task in self.tasks:\n",
    "            task.run()\n",
    "    def killall(self):\n",
    "        for task in self.tasks:\n",
    "            task.kill()\n",
    "    def lock_until(self,buf_time=5.):\n",
    "        iexit=False\n",
    "        t0=time.time()\n",
    "        while not(iexit):\n",
    "            ## if any\n",
    "            for i in range(len(self.tasks)):\n",
    "                t = self.tasks[i]\n",
    "                #print '\\nPoll:', t.p.poll()\n",
    "                if t.p.poll()!=None:\n",
    "                    iexit=True\n",
    "                    break\n",
    "            t1=time.time()\n",
    "            uet(t1-t0)\n",
    "            if not(iexit): time.sleep(buf_time)\n",
    "\n",
    "        ## find that 'successfully' ends first..\n",
    "        #   find those which successfully read the first lines\n",
    "        \n",
    "## example with two angles\n",
    "Task1=FLDbTask()\n",
    "Task1.create_working_folder(\n",
    "path_work=None,f0=0.990,psi0=0.,\n",
    "fn_tar_FLDa='fld_a_rst_20150301_9wCeUP.tar',iprobe=0)\n",
    "\n",
    "Task2=FLDbTask()\n",
    "Task2.create_working_folder(\n",
    "path_work=None,f0=0.990,psi0=5.,\n",
    "fn_tar_FLDa='fld_a_rst_20150301_9wCeUP.tar',iprobe=0)\n",
    "\n",
    "print Task2.path_work\n",
    "\n",
    "TaskMan=TaskManager()\n",
    "TaskMan.givetask(Task1, Task2)\n",
    "\n",
    "TaskMan.run()\n",
    "#TaskMan.lock_until(buf_time=5.)\n",
    "\n"
   ]
  },
  {
   "cell_type": "code",
   "execution_count": 369,
   "metadata": {
    "collapsed": false
   },
   "outputs": [
    {
     "ename": "AttributeError",
     "evalue": "'file' object has no attribute 'returncode'",
     "output_type": "error",
     "traceback": [
      "\u001b[0;31m---------------------------------------------------------------------------\u001b[0m\n\u001b[0;31mAttributeError\u001b[0m                            Traceback (most recent call last)",
      "\u001b[0;32m<ipython-input-369-f96d8c37e905>\u001b[0m in \u001b[0;36m<module>\u001b[0;34m()\u001b[0m\n\u001b[0;32m----> 1\u001b[0;31m \u001b[0mTaskMan\u001b[0m\u001b[0;34m.\u001b[0m\u001b[0mtasks\u001b[0m\u001b[0;34m[\u001b[0m\u001b[0;36m0\u001b[0m\u001b[0;34m]\u001b[0m\u001b[0;34m.\u001b[0m\u001b[0mreturncode\u001b[0m\u001b[0;34m(\u001b[0m\u001b[0;34m)\u001b[0m\u001b[0;34m\u001b[0m\u001b[0m\n\u001b[0m",
      "\u001b[0;32m<ipython-input-356-85e6af077ef8>\u001b[0m in \u001b[0;36mreturncode\u001b[0;34m(self)\u001b[0m\n\u001b[1;32m    211\u001b[0m         \u001b[0mself\u001b[0m\u001b[0;34m.\u001b[0m\u001b[0mfc\u001b[0m\u001b[0;34m.\u001b[0m\u001b[0mget_6stress\u001b[0m\u001b[0;34m(\u001b[0m\u001b[0msig\u001b[0m\u001b[0;34m)\u001b[0m\u001b[0;34m\u001b[0m\u001b[0m\n\u001b[1;32m    212\u001b[0m     \u001b[0;32mdef\u001b[0m \u001b[0mreturncode\u001b[0m\u001b[0;34m(\u001b[0m\u001b[0mself\u001b[0m\u001b[0;34m)\u001b[0m\u001b[0;34m:\u001b[0m\u001b[0;34m\u001b[0m\u001b[0m\n\u001b[0;32m--> 213\u001b[0;31m         \u001b[0;32mreturn\u001b[0m \u001b[0mp\u001b[0m\u001b[0;34m.\u001b[0m\u001b[0mreturncode\u001b[0m\u001b[0;34m\u001b[0m\u001b[0m\n\u001b[0m",
      "\u001b[0;31mAttributeError\u001b[0m: 'file' object has no attribute 'returncode'"
     ]
    }
   ],
   "source": []
  },
  {
   "cell_type": "code",
   "execution_count": 349,
   "metadata": {
    "collapsed": false
   },
   "outputs": [
    {
     "name": "stdout",
     "output_type": "stream",
     "text": [
      "read lines exceeded nbuf\n"
     ]
    }
   ],
   "source": [
    "MyTask.readlines(nbuf=10,timeout=10)"
   ]
  },
  {
   "cell_type": "code",
   "execution_count": 347,
   "metadata": {
    "collapsed": false
   },
   "outputs": [],
   "source": [
    "MyTask.p.kill()\n",
    "shutil.rmtree(MyTask.path_work)\n",
    "os.chdir(path_home)"
   ]
  },
  {
   "cell_type": "markdown",
   "metadata": {},
   "source": [
    "## Manager of FLDb workers"
   ]
  },
  {
   "cell_type": "code",
   "execution_count": 283,
   "metadata": {
    "collapsed": false
   },
   "outputs": [],
   "source": [
    "import fld\n",
    "from testing import datetime\n",
    "from fld import fld_post_probe\n",
    "import shutil\n",
    "from random import choice\n",
    "import numpy as np\n",
    "from tempfile import mkdtemp\n",
    "\n",
    "import multiprocessing\n",
    "\n",
    "       \n",
    "class Worker:\n",
    "    def __init__(self):\n",
    "        self.idle=True\n",
    "        self.task=None\n",
    "    def Give_task(self,task):\n",
    "        os.getcwd(dir)\n",
    "        self.task=task\n",
    "    def KillTask(self):\n",
    "        task.kill()\n",
    "        self.idle=True\n",
    "        self.task=None\n",
    "        \n",
    "        \n",
    "class WorkerPool:  ## Pool of workers\n",
    "    def __init__(self,nworker):\n",
    "        self.workers=[]\n",
    "        for i in range(nworker):\n",
    "            self.workers.append(Worker())\n",
    "        self.nworker=nworker\n",
    "    def Assign_a_task(self,task,time_buffer=1.):\n",
    "        \"\"\"\n",
    "        Assign the given task to an idle worker\n",
    "        \n",
    "        Arguments\n",
    "        =========\n",
    "        task\n",
    "        time_buffer=1.\n",
    "        \"\"\"\n",
    "        while (self.n_idle_workers==0):\n",
    "            time.sleep(time_buffer)\n",
    "            self.Find_idle_workers()\n",
    "        \n",
    "        chosen_worker = choice(self.idle_workers)\n",
    "        chosen_worker.Give_Task(task)\n",
    "    def Find_idle_workers(self):\n",
    "        \"\"\"\n",
    "        See if any idle worker is available\n",
    "        \"\"\"\n",
    "        self.n_idle_workers=0\n",
    "        self.idle_workers=[]\n",
    "        for i in range(len(self.workers)):\n",
    "            if self.workers.idle:\n",
    "                self.n_idle_workers=self.n_idle_workers+1\n",
    "                self.idle_workers.append(self.workers[i])\n",
    "    \n",
    "class FLDmanager:\n",
    "    def __init__(self):\n",
    "        pass\n",
    "    def gen_workers_union(self,nworker=1):\n",
    "        self.WorkerPool = WorkerPool(nworker=nworker)\n",
    "        self.nworker=self.WorkerPool.nworker\n",
    "        pass\n",
    "    def create_work_place(\n",
    "        self,dir='/Users/yj/repo/vpsc/vpsc-dev-fld',\n",
    "        fn='fld_a_rst_20150226.tar',\n",
    "        f0=0.990,npsi=2):\n",
    "        \"\"\"\n",
    "        1. Point to home and find\n",
    "        what today's duties are.\n",
    "        2. Create hub \n",
    "        3. Figure out what tasks are given\n",
    "        4. Prepare tasks and assign them to a finite number of workers\n",
    "        5. Make sure workers are not idle.\n",
    "        \n",
    "        Arguments\n",
    "        =========\n",
    "        dir\n",
    "        fn   : tar file generated by region A simulations for <n> number of paths\n",
    "        f0   : initial inhomogeneity factor (ratio of thicknesses)\n",
    "        npsi=5.\n",
    "        \"\"\"\n",
    "        if not(os.path.isfile(os.path.join(dir,fn))):\n",
    "            from glob import glob\n",
    "            print '-'*20\n",
    "            print \"could not find %s\"%fn\n",
    "            print 'Consider one of below listed file(s)'            \n",
    "            fns=glob('fld_a_???*.tar')\n",
    "            for i in range(len(fns)):\n",
    "                print '%2.2i'%(i+1), fns[i]\n",
    "            print '-'*20\n",
    "\n",
    "        self.path_home = dir\n",
    "        self.tf_a = fn\n",
    "        self.psi0s = np.linspace(0.,90.,npsi)\n",
    "        self.npsi = npsi\n",
    "        \n",
    "        ## generate path_hub\n",
    "        self.path_hub = mkdtemp(dir='/tmp',prefix='VPSCFLDb-manager-hub-regionB-')\n",
    "        os.chdir(self.path_home)\n",
    "        fld_post_probe(f0=f0,psi0=0,# psi0 is not meaningful for path_hub\n",
    "                       dst=self.path_hub,wc=['find_rhos','FLD_nu.in',self.tf_a])\n",
    "        os.chdir(self.path_hub)\n",
    "        p=os.popen('tar -tf '+self.tf_a)\n",
    "        self.n_probe=len(p.readlines())\n",
    "        print 'n_probe:', self.n_probe\n",
    "        \n",
    "        ## total tasks: [self.npsi, self.n_probe]\n",
    "        ## Create the table of tasks.\n",
    "        \n",
    "        self.paths_work=NM_list(self.npsi,self.n_probe).container\n",
    "        self.ntask = self.n_probe*self.npsi\n",
    "        k=0\n",
    "        print '# Prep total %i working paths'%self.ntask\n",
    "        t0=time.time();dt=0.1\n",
    "        self.tasks=[]\n",
    "        tt0=t0\n",
    "        for j in range(self.n_probe):\n",
    "            for i in range(self.npsi):\n",
    "                path_work = mkdtemp(dir='/tmp',prefix='VPSCFLDb-%2.2i-%2.2i-'%(j,self.psi0s[i]))\n",
    "                self.paths_work[i][j] = path_work\n",
    "                \n",
    "                ## create tasks\n",
    "                task = FLDbTask()\n",
    "                task.create_working_folder(\n",
    "                    path_work=path_work,f0=f0,\n",
    "                    psi0=self.psi0s[i],fn_tar_FLDa=self.tf_a,\n",
    "                    iprobe=j)\n",
    "                self.tasks.append(task)      \n",
    "                \n",
    "                ## progress bar\n",
    "                k=k+1\n",
    "                t1=time.time()\n",
    "                if t1-t0>dt or k==self.ntask:                    \n",
    "                    upr(float(k)/float(self.ntask))\n",
    "                    t0 = t1\n",
    "        uet(time.time()-tt0);print\n",
    "        os.chdir(self.path_home)\n",
    "        \n",
    "    def remove_all_workplaces(self):\n",
    "        \"\"\"\n",
    "        Remove all workplaces, caution should be taken!\n",
    "        \"\"\"\n",
    "        for i in xrange(len(self.paths_work)):\n",
    "            for j in xrange(len(self.paths_work[i])):\n",
    "                shutil.rmtree(self.paths_work[i][j])\n",
    "        if self.path_hub!=None: shutil.rmtree(self.path_hub)\n",
    "\n",
    "    def run(self,ncpu=None):\n",
    "        \"\"\"\n",
    "        Arguments\n",
    "        =========\n",
    "        ncpu=None\n",
    "        \"\"\"\n",
    "        if ncpu==None:\n",
    "            self.ncpu=multiprocessing.cpu_count\n",
    "        else: self.ncpu=ncpu\n",
    "        print '\\n'\n",
    "        print '-'*41\n",
    "        print ' VPSC-FLDb simulations for',\n",
    "        print 'total %i runs'%(self.ntask)\n",
    "        print ' Worker pool: %i'%self.nworker\n",
    "        print '-'*41\n",
    "        \n",
    "        \n",
    "        "
   ]
  },
  {
   "cell_type": "code",
   "execution_count": 284,
   "metadata": {
    "collapsed": false
   },
   "outputs": [
    {
     "name": "stdout",
     "output_type": "stream",
     "text": [
      "n_probe: 4\n",
      "# Prep total 12 working paths\n",
      "Percent: [##############################] 100% Done...\n",
      "Elapsed time: 00 [sec]\n",
      "\n",
      "\n",
      "-----------------------------------------\n",
      " VPSC-FLDb simulations for total 12 runs\n",
      " Worker pool: 4\n",
      "-----------------------------------------\n"
     ]
    }
   ],
   "source": [
    "evil_manager=FLDmanager()\n",
    "evil_manager.create_work_place(npsi=3,dir='/Users/yj/repo/vpsc/vpsc-dev-fld',\n",
    "        fn='fld_a_rst_20150301_9wCeUP.tar')\n",
    "evil_manager.gen_workers_union(nworker=4)\n",
    "evil_manager.run()\n",
    "evil_manager.remove_all_workplaces()"
   ]
  },
  {
   "cell_type": "code",
   "execution_count": 282,
   "metadata": {
    "collapsed": false
   },
   "outputs": [
    {
     "ename": "OSError",
     "evalue": "[Errno 2] No such file or directory: '/tmp/VPSCFLDb-00-00-PFk_5n'",
     "output_type": "error",
     "traceback": [
      "\u001b[0;31m---------------------------------------------------------------------------\u001b[0m\n\u001b[0;31mOSError\u001b[0m                                   Traceback (most recent call last)",
      "\u001b[0;32m<ipython-input-282-1ebb7c344da5>\u001b[0m in \u001b[0;36m<module>\u001b[0;34m()\u001b[0m\n\u001b[0;32m----> 1\u001b[0;31m \u001b[0mevil_manager\u001b[0m\u001b[0;34m.\u001b[0m\u001b[0mremove_all_workplaces\u001b[0m\u001b[0;34m(\u001b[0m\u001b[0;34m)\u001b[0m\u001b[0;34m\u001b[0m\u001b[0m\n\u001b[0m",
      "\u001b[0;32m<ipython-input-277-482f2c3bfd10>\u001b[0m in \u001b[0;36mremove_all_workplaces\u001b[0;34m(self)\u001b[0m\n\u001b[1;32m    145\u001b[0m         \u001b[0;32mfor\u001b[0m \u001b[0mi\u001b[0m \u001b[0;32min\u001b[0m \u001b[0mxrange\u001b[0m\u001b[0;34m(\u001b[0m\u001b[0mlen\u001b[0m\u001b[0;34m(\u001b[0m\u001b[0mself\u001b[0m\u001b[0;34m.\u001b[0m\u001b[0mpaths_work\u001b[0m\u001b[0;34m)\u001b[0m\u001b[0;34m)\u001b[0m\u001b[0;34m:\u001b[0m\u001b[0;34m\u001b[0m\u001b[0m\n\u001b[1;32m    146\u001b[0m             \u001b[0;32mfor\u001b[0m \u001b[0mj\u001b[0m \u001b[0;32min\u001b[0m \u001b[0mxrange\u001b[0m\u001b[0;34m(\u001b[0m\u001b[0mlen\u001b[0m\u001b[0;34m(\u001b[0m\u001b[0mself\u001b[0m\u001b[0;34m.\u001b[0m\u001b[0mpaths_work\u001b[0m\u001b[0;34m[\u001b[0m\u001b[0mi\u001b[0m\u001b[0;34m]\u001b[0m\u001b[0;34m)\u001b[0m\u001b[0;34m)\u001b[0m\u001b[0;34m:\u001b[0m\u001b[0;34m\u001b[0m\u001b[0m\n\u001b[0;32m--> 147\u001b[0;31m                 \u001b[0mshutil\u001b[0m\u001b[0;34m.\u001b[0m\u001b[0mrmtree\u001b[0m\u001b[0;34m(\u001b[0m\u001b[0mself\u001b[0m\u001b[0;34m.\u001b[0m\u001b[0mpaths_work\u001b[0m\u001b[0;34m[\u001b[0m\u001b[0mi\u001b[0m\u001b[0;34m]\u001b[0m\u001b[0;34m[\u001b[0m\u001b[0mj\u001b[0m\u001b[0;34m]\u001b[0m\u001b[0;34m)\u001b[0m\u001b[0;34m\u001b[0m\u001b[0m\n\u001b[0m\u001b[1;32m    148\u001b[0m         \u001b[0;32mif\u001b[0m \u001b[0mself\u001b[0m\u001b[0;34m.\u001b[0m\u001b[0mpath_hub\u001b[0m\u001b[0;34m!=\u001b[0m\u001b[0mNone\u001b[0m\u001b[0;34m:\u001b[0m \u001b[0mshutil\u001b[0m\u001b[0;34m.\u001b[0m\u001b[0mrmtree\u001b[0m\u001b[0;34m(\u001b[0m\u001b[0mself\u001b[0m\u001b[0;34m.\u001b[0m\u001b[0mpath_hub\u001b[0m\u001b[0;34m)\u001b[0m\u001b[0;34m\u001b[0m\u001b[0m\n\u001b[1;32m    149\u001b[0m \u001b[0;34m\u001b[0m\u001b[0m\n",
      "\u001b[0;32m/Users/yj/anaconda/lib/python2.7/shutil.pyc\u001b[0m in \u001b[0;36mrmtree\u001b[0;34m(path, ignore_errors, onerror)\u001b[0m\n\u001b[1;32m    237\u001b[0m         \u001b[0mnames\u001b[0m \u001b[0;34m=\u001b[0m \u001b[0mos\u001b[0m\u001b[0;34m.\u001b[0m\u001b[0mlistdir\u001b[0m\u001b[0;34m(\u001b[0m\u001b[0mpath\u001b[0m\u001b[0;34m)\u001b[0m\u001b[0;34m\u001b[0m\u001b[0m\n\u001b[1;32m    238\u001b[0m     \u001b[0;32mexcept\u001b[0m \u001b[0mos\u001b[0m\u001b[0;34m.\u001b[0m\u001b[0merror\u001b[0m\u001b[0;34m,\u001b[0m \u001b[0merr\u001b[0m\u001b[0;34m:\u001b[0m\u001b[0;34m\u001b[0m\u001b[0m\n\u001b[0;32m--> 239\u001b[0;31m         \u001b[0monerror\u001b[0m\u001b[0;34m(\u001b[0m\u001b[0mos\u001b[0m\u001b[0;34m.\u001b[0m\u001b[0mlistdir\u001b[0m\u001b[0;34m,\u001b[0m \u001b[0mpath\u001b[0m\u001b[0;34m,\u001b[0m \u001b[0msys\u001b[0m\u001b[0;34m.\u001b[0m\u001b[0mexc_info\u001b[0m\u001b[0;34m(\u001b[0m\u001b[0;34m)\u001b[0m\u001b[0;34m)\u001b[0m\u001b[0;34m\u001b[0m\u001b[0m\n\u001b[0m\u001b[1;32m    240\u001b[0m     \u001b[0;32mfor\u001b[0m \u001b[0mname\u001b[0m \u001b[0;32min\u001b[0m \u001b[0mnames\u001b[0m\u001b[0;34m:\u001b[0m\u001b[0;34m\u001b[0m\u001b[0m\n\u001b[1;32m    241\u001b[0m         \u001b[0mfullname\u001b[0m \u001b[0;34m=\u001b[0m \u001b[0mos\u001b[0m\u001b[0;34m.\u001b[0m\u001b[0mpath\u001b[0m\u001b[0;34m.\u001b[0m\u001b[0mjoin\u001b[0m\u001b[0;34m(\u001b[0m\u001b[0mpath\u001b[0m\u001b[0;34m,\u001b[0m \u001b[0mname\u001b[0m\u001b[0;34m)\u001b[0m\u001b[0;34m\u001b[0m\u001b[0m\n",
      "\u001b[0;32m/Users/yj/anaconda/lib/python2.7/shutil.pyc\u001b[0m in \u001b[0;36mrmtree\u001b[0;34m(path, ignore_errors, onerror)\u001b[0m\n\u001b[1;32m    235\u001b[0m     \u001b[0mnames\u001b[0m \u001b[0;34m=\u001b[0m \u001b[0;34m[\u001b[0m\u001b[0;34m]\u001b[0m\u001b[0;34m\u001b[0m\u001b[0m\n\u001b[1;32m    236\u001b[0m     \u001b[0;32mtry\u001b[0m\u001b[0;34m:\u001b[0m\u001b[0;34m\u001b[0m\u001b[0m\n\u001b[0;32m--> 237\u001b[0;31m         \u001b[0mnames\u001b[0m \u001b[0;34m=\u001b[0m \u001b[0mos\u001b[0m\u001b[0;34m.\u001b[0m\u001b[0mlistdir\u001b[0m\u001b[0;34m(\u001b[0m\u001b[0mpath\u001b[0m\u001b[0;34m)\u001b[0m\u001b[0;34m\u001b[0m\u001b[0m\n\u001b[0m\u001b[1;32m    238\u001b[0m     \u001b[0;32mexcept\u001b[0m \u001b[0mos\u001b[0m\u001b[0;34m.\u001b[0m\u001b[0merror\u001b[0m\u001b[0;34m,\u001b[0m \u001b[0merr\u001b[0m\u001b[0;34m:\u001b[0m\u001b[0;34m\u001b[0m\u001b[0m\n\u001b[1;32m    239\u001b[0m         \u001b[0monerror\u001b[0m\u001b[0;34m(\u001b[0m\u001b[0mos\u001b[0m\u001b[0;34m.\u001b[0m\u001b[0mlistdir\u001b[0m\u001b[0;34m,\u001b[0m \u001b[0mpath\u001b[0m\u001b[0;34m,\u001b[0m \u001b[0msys\u001b[0m\u001b[0;34m.\u001b[0m\u001b[0mexc_info\u001b[0m\u001b[0;34m(\u001b[0m\u001b[0;34m)\u001b[0m\u001b[0;34m)\u001b[0m\u001b[0;34m\u001b[0m\u001b[0m\n",
      "\u001b[0;31mOSError\u001b[0m: [Errno 2] No such file or directory: '/tmp/VPSCFLDb-00-00-PFk_5n'"
     ]
    }
   ],
   "source": [
    "evil_manager.remove_all_workplaces()"
   ]
  },
  {
   "cell_type": "code",
   "execution_count": null,
   "metadata": {
    "collapsed": false
   },
   "outputs": [],
   "source": []
  }
 ],
 "metadata": {
  "kernelspec": {
   "display_name": "Python 2",
   "language": "python",
   "name": "python2"
  },
  "language_info": {
   "codemirror_mode": {
    "name": "ipython",
    "version": 2
   },
   "file_extension": ".py",
   "mimetype": "text/x-python",
   "name": "python",
   "nbconvert_exporter": "python",
   "pygments_lexer": "ipython2",
   "version": "2.7.10"
  }
 },
 "nbformat": 4,
 "nbformat_minor": 0
}
