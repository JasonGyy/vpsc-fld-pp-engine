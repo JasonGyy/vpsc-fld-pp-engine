{
 "metadata": {
  "name": "",
  "signature": "sha256:7ae1b78c256da8a2a3d1a0f5fde0d94d01faecc16779f2f9c942e9b20b685d92"
 },
 "nbformat": 3,
 "nbformat_minor": 0,
 "worksheets": [
  {
   "cells": [
    {
     "cell_type": "code",
     "collapsed": false,
     "input": [
      "import os;from os import getcwd,chdir\n",
      "import tempfile\n",
      "from MP.mat import mech\n",
      "FlowCurve = mech.FlowCurve\n",
      "path_home = getcwd()"
     ],
     "language": "python",
     "metadata": {},
     "outputs": [],
     "prompt_number": 5
    },
    {
     "cell_type": "code",
     "collapsed": false,
     "input": [
      "path_vpsc_home = '/Users/yj/repo/vpsc/vpsc-dev-fld'\n",
      "chdir(path_vpsc_home)"
     ],
     "language": "python",
     "metadata": {},
     "outputs": [],
     "prompt_number": 6
    },
    {
     "cell_type": "code",
     "collapsed": false,
     "input": [
      "import subprocess,os\n",
      "import time,shutil\n",
      "from MP import progress_bar\n",
      "uet = progress_bar.update_elapsed_time\n",
      "class workerFLDa():\n",
      "    def __init__(self):\n",
      "        self.path_home=os.getcwd()\n",
      "        pass\n",
      "    def create_working_folder(\n",
      "            self,rho=0,cvm=1e-3,evm_limit=0.03,\n",
      "            deij=1e-3,path_work=None):\n",
      "        \"\"\"\n",
      "        Assign worker's duty\n",
      "        The worker should create 'vpsc7.in' input\n",
      "        according to the linear path (rho), strain rate (cvm),\n",
      "        with an increment of <deij>. The worker should keep\n",
      "        up the duty until <evm_limit> is reached.\n",
      "        \n",
      "        Arguments\n",
      "        =========\n",
      "        rho\n",
      "        cvm\n",
      "        evm_limit\n",
      "        deij\n",
      "        path_work\n",
      "        \"\"\"\n",
      "        from fld import fld_pre_probe\n",
      "        if path_work==None:\n",
      "            self.path_work= tempfile.mkdtemp(dir='/tmp', \n",
      "                                             prefix='VPSC-FLDa-worker-')\n",
      "        else: self.path_work = path_work\n",
      "        fld_pre_probe(rho=rho, cvm=cvm, \n",
      "                      evm_limit=evm_limit,\n",
      "                      deij=deij,\n",
      "                      dst=self.path_work)\n",
      "    def run(self,bufsize=1):\n",
      "        \"\"\"\n",
      "        Execute VPSC and piping stdout\n",
      "        \n",
      "        Argments\n",
      "        ========\n",
      "        wait=False\n",
      "        bufsize=1\n",
      "        \"\"\"\n",
      "        os.chdir(self.path_work)\n",
      "        ## piping to file object\n",
      "        self.stdout = subprocess.PIPE\n",
      "        self.p = subprocess.Popen(['./vpsc'], \n",
      "                                #shell=True,\n",
      "                                stdout=self.stdout,\n",
      "                                bufsize=bufsize)\n",
      "        self.stdout=self.p.stdout\n",
      "        self.pid=self.p.pid\n",
      "        self.sigma = []\n",
      "        self.epsilon = [] \n",
      "    def remove(self):\n",
      "        shutil.rmtree(self.path_work)\n",
      "        print 'path_work: %s has been removed'%self.path_work\n",
      "        os.chdir(self.path_home)\n",
      "        print 'Homing to %s'%self.path_home\n",
      "\n",
      "#    def kill(self): self.p.kill()\n",
      "#    def terminate(self): self.p.terminate()\n",
      "#    def lock(self): self.p.wait()\n",
      "\n",
      "    def readlines(self,nbuf=10,verbose=False):\n",
      "        \"\"\"\n",
      "        Read <nbuf> number of lines from self.stdout\n",
      "        \n",
      "        Arguments\n",
      "        =========\n",
      "        nbuf=10\n",
      "        verbose=False\n",
      "        \"\"\"\n",
      "        for i in range(nbuf):\n",
      "            line = self.stdout.readline().split('\\n')[0]\n",
      "            try:\n",
      "                d=line.split('||')\n",
      "                eps=np.array(map(float,d[0].split()))\n",
      "                sig=np.array(map(float,d[1].split()))\n",
      "            except: pass\n",
      "            else:\n",
      "                if verbose: print d\n",
      "                self.sigma.append(sig)\n",
      "                self.epsilon.append(eps)\n",
      "                self.update_fc()\n",
      "                self.fc.get_eqv()\n",
      "    def set_monitor(self,term_evm=0.1,dt=5,nbuf=10):\n",
      "        \"\"\"\n",
      "        Monitoring stress-strain, if p terminates\n",
      "        prior to given term_evm, save/return that value.\n",
      "        \n",
      "        Arguments\n",
      "        =========\n",
      "        term_evm=0.1\n",
      "        dt=5\n",
      "        nbuf=10\n",
      "        \"\"\"\n",
      "        t0=time.time()\n",
      "        iexit=False\n",
      "        while not(iexit):\n",
      "            t1=time.time(); elps = t1-t0\n",
      "            uet(elps,False,'Total elapsed time')\n",
      "            self.readlines(nbuf=nbuf)\n",
      "            try: \n",
      "                dum=self.fc.nstp\n",
      "            except: pass\n",
      "            else:\n",
      "                #print self.fc.epsilon_vm[-1], term_evm\n",
      "                if self.fc.epsilon_vm[-1]>=term_evm:\n",
      "                    #self.p.kill()\n",
      "                    self.p.terminate()\n",
      "                    print '\\nprocess killed due to exceeding term_evm'\n",
      "                    return self.fc.epsilon_vm[-1]\n",
      "                    iexit = True\n",
      "            if self.p.poll()!=None:\n",
      "                print 'process terminated'\n",
      "                print self.p.poll();iexit=True\n",
      "                if self.fc.epsilon_vm[-1]<term_evm:\n",
      "                    print 'VM strain found from pid:%i '%self.p.pid,\n",
      "                    print 'is lower than the given value!'\n",
      "                    return self.fc.epsilon_vm[-1]\n",
      "            if not(iexit): time.sleep(dt)\n",
      "    def update_fc(self):\n",
      "        \"\"\"\n",
      "        Update flow stress/strain data\n",
      "        \"\"\"\n",
      "        eps,sig = np.array(self.epsilon).T, np.array(self.sigma).T\n",
      "        self.fc = FlowCurve()\n",
      "        self.fc.get_6strain(eps)\n",
      "        self.fc.get_6stress(sig)\n",
      "    def returncode(self):\n",
      "        return p.returncode"
     ],
     "language": "python",
     "metadata": {},
     "outputs": [],
     "prompt_number": 7
    },
    {
     "cell_type": "code",
     "collapsed": false,
     "input": [
      "\"\"\"\n",
      "Workers form a union.\n",
      "\"\"\"\n",
      "class WorkUnion:\n",
      "    def __init__(self):\n",
      "        pass\n",
      "    def assembly(self):\n",
      "        pass\n",
      "    def set_monitor(self):\n",
      "        pass"
     ],
     "language": "python",
     "metadata": {},
     "outputs": [],
     "prompt_number": 8
    },
    {
     "cell_type": "code",
     "collapsed": false,
     "input": [
      "pwd"
     ],
     "language": "python",
     "metadata": {},
     "outputs": [
      {
       "metadata": {},
       "output_type": "pyout",
       "prompt_number": 9,
       "text": [
        "u'/Users/yj/repo/vpsc/vpsc-dev-fld'"
       ]
      }
     ],
     "prompt_number": 9
    },
    {
     "cell_type": "code",
     "collapsed": false,
     "input": [
      "myFLDa=workerFLDa()\n",
      "myFLDa.create_working_folder(evm_limit=0.02)\n",
      "print myFLDa.path_work"
     ],
     "language": "python",
     "metadata": {},
     "outputs": [
      {
       "output_type": "stream",
       "stream": "stdout",
       "text": [
        "/tmp/VPSC-FLDa-worker-Al3doE\n"
       ]
      }
     ],
     "prompt_number": 10
    },
    {
     "cell_type": "code",
     "collapsed": false,
     "input": [
      "myFLDa.run()\n",
      "print myFLDa.pid"
     ],
     "language": "python",
     "metadata": {},
     "outputs": [
      {
       "output_type": "stream",
       "stream": "stdout",
       "text": [
        "45262\n"
       ]
      }
     ],
     "prompt_number": 11
    },
    {
     "cell_type": "code",
     "collapsed": false,
     "input": [
      "myFLDa.set_monitor(dt=0.5,term_evm=0.01)"
     ],
     "language": "python",
     "metadata": {},
     "outputs": [
      {
       "output_type": "stream",
       "stream": "stdout",
       "text": [
        "\r",
        "Total elapsed time: 00 [sec]\r",
        "Total elapsed time: 00 [sec]"
       ]
      },
      {
       "output_type": "stream",
       "stream": "stdout",
       "text": [
        "\r",
        "Total elapsed time: 01 [sec]\r",
        "Total elapsed time: 02 [sec]"
       ]
      },
      {
       "output_type": "stream",
       "stream": "stdout",
       "text": [
        "\n",
        "process killed due to exceeding term_evm\n"
       ]
      },
      {
       "metadata": {},
       "output_type": "pyout",
       "prompt_number": 12,
       "text": [
        "0.012699694837580553"
       ]
      }
     ],
     "prompt_number": 12
    },
    {
     "cell_type": "code",
     "collapsed": false,
     "input": [
      "myFLDa.p.kill()"
     ],
     "language": "python",
     "metadata": {},
     "outputs": [],
     "prompt_number": 13
    },
    {
     "cell_type": "code",
     "collapsed": false,
     "input": [
      "myFLDa.remove()"
     ],
     "language": "python",
     "metadata": {},
     "outputs": [
      {
       "output_type": "stream",
       "stream": "stdout",
       "text": [
        "path_work: /tmp/VPSC-FLDa-worker-Al3doE has been removed\n",
        "Homing to /Users/yj/repo/vpsc/vpsc-dev-fld\n"
       ]
      }
     ],
     "prompt_number": 14
    },
    {
     "cell_type": "code",
     "collapsed": false,
     "input": [
      "myFLDa.readlines(nbuf=5)"
     ],
     "language": "python",
     "metadata": {},
     "outputs": [],
     "prompt_number": 15
    },
    {
     "cell_type": "code",
     "collapsed": false,
     "input": [
      "myFLDa.fc.epsilon_vm[-2]"
     ],
     "language": "python",
     "metadata": {},
     "outputs": [
      {
       "metadata": {},
       "output_type": "pyout",
       "prompt_number": 16,
       "text": [
        "0.01154524152131337"
       ]
      }
     ],
     "prompt_number": 16
    },
    {
     "cell_type": "code",
     "collapsed": false,
     "input": [
      "print myFLDa.fc.epsilon\n",
      "print myFLDa.fc.sigma"
     ],
     "language": "python",
     "metadata": {},
     "outputs": [
      {
       "output_type": "stream",
       "stream": "stdout",
       "text": [
        "[[[ 0.001  0.002  0.003  0.004  0.005  0.006  0.007  0.008  0.009  0.01\n",
        "    0.011]\n",
        "  [ 0.     0.     0.     0.     0.     0.     0.     0.     0.     0.     0.   ]\n",
        "  [ 0.     0.     0.     0.     0.     0.     0.     0.     0.     0.     0.   ]]\n",
        "\n",
        " [[ 0.     0.     0.     0.     0.     0.     0.     0.     0.     0.     0.   ]\n",
        "  [ 0.     0.     0.     0.     0.     0.     0.     0.     0.     0.     0.   ]\n",
        "  [ 0.     0.     0.     0.     0.     0.     0.     0.     0.     0.     0.   ]]\n",
        "\n",
        " [[ 0.     0.     0.     0.     0.     0.     0.     0.     0.     0.     0.   ]\n",
        "  [ 0.     0.     0.     0.     0.     0.     0.     0.     0.     0.     0.   ]\n",
        "  [-0.001 -0.002 -0.003 -0.004 -0.005 -0.006 -0.007 -0.008 -0.009 -0.01\n",
        "   -0.011]]]\n",
        "[[[ 151.25  154.12  156.92  159.74  162.52  165.29  168.03  170.75  173.45\n",
        "    176.13  178.79]\n",
        "  [  -0.24   -0.26   -0.28   -0.29   -0.31   -0.32   -0.33   -0.34   -0.35\n",
        "     -0.35   -0.36]\n",
        "  [  -0.94   -0.96   -1.     -1.02   -1.04   -1.06   -1.08   -1.1    -1.12\n",
        "     -1.14   -1.16]]\n",
        "\n",
        " [[  -0.24   -0.26   -0.28   -0.29   -0.31   -0.32   -0.33   -0.34   -0.35\n",
        "     -0.35   -0.36]\n",
        "  [  76.02   77.53   79.01   80.49   81.96   83.42   84.88   86.33   87.77\n",
        "     89.2    90.63]\n",
        "  [  -0.53   -0.55   -0.58   -0.6    -0.62   -0.64   -0.66   -0.68   -0.7\n",
        "     -0.72   -0.74]]\n",
        "\n",
        " [[  -0.94   -0.96   -1.     -1.02   -1.04   -1.06   -1.08   -1.1    -1.12\n",
        "     -1.14   -1.16]\n",
        "  [  -0.53   -0.55   -0.58   -0.6    -0.62   -0.64   -0.66   -0.68   -0.7\n",
        "     -0.72   -0.74]\n",
        "  [   0.      0.      0.      0.      0.      0.      0.      0.      0.\n",
        "      0.      0.  ]]]\n"
       ]
      }
     ],
     "prompt_number": 17
    },
    {
     "cell_type": "code",
     "collapsed": false,
     "input": [
      "%whos"
     ],
     "language": "python",
     "metadata": {},
     "outputs": [
      {
       "output_type": "stream",
       "stream": "stdout",
       "text": [
        "Variable         Type                          Data/Info\n",
        "--------------------------------------------------------\n",
        "FLDbTask         classobj                      __main__.FLDbTask\n",
        "FlowCurve        classobj                      MP.mat.mech.FlowCurve\n",
        "MyTask           __main__.FLDbTask             <__main__.FLDbTask instance at 0x1056f3cf8>\n",
        "WorkUnion        classobj                      __main__.WorkUnion\n",
        "chdir            builtin_function_or_method    <built-in function chdir>\n",
        "getcwd           builtin_function_or_method    <built-in function getcwd>\n",
        "mech             module                        <module 'MP.mat.mech' fro<...>ackages/MP/mat/mech.pyc'>\n",
        "myFLDa           __main__.workerFLDa           <__main__.workerFLDa instance at 0x1054dcf38>\n",
        "os               module                        <module 'os' from '/Users<...>da/lib/python2.7/os.pyc'>\n",
        "path_home        str                           /Users/yj/repo/vpsc/vpsc-dev-fld\n",
        "path_vpsc_home   str                           /Users/yj/repo/vpsc/vpsc-dev-fld\n",
        "progress_bar     module                        <module 'MP.progress_bar'<...>ges/MP/progress_bar.pyc'>\n",
        "shutil           module                        <module 'shutil' from '/U<...>ib/python2.7/shutil.pyc'>\n",
        "subprocess       module                        <module 'subprocess' from<...>ython2.7/subprocess.pyc'>\n",
        "tempfile         module                        <module 'tempfile' from '<...>/python2.7/tempfile.pyc'>\n",
        "time             module                        <module 'time' from '/Use<...>2.7/lib-dynload/time.so'>\n",
        "uet              function                      <function update_elapsed_time at 0x105d49c80>\n",
        "workerFLDa       classobj                      __main__.workerFLDa\n"
       ]
      }
     ],
     "prompt_number": 18
    },
    {
     "cell_type": "heading",
     "level": 1,
     "metadata": {},
     "source": [
      "Forming limit diagram prediction using VPSC for region B"
     ]
    },
    {
     "cell_type": "code",
     "collapsed": false,
     "input": [
      "import os\n",
      "\n",
      "path_vpsc_home = '/Users/yj/repo/vpsc/vpsc-dev-fld'\n",
      "fns=os.listdir(path_vpsc_home)\n",
      "tar_fn_regiona='/Users/yj/repo/vpsc/vpsc-dev-fld/fld_a_rst_20150226.tar'\n",
      "p=os.popen('tar -tf %s'%tar_fn_regiona)\n",
      "tar_fn_regiona_paths=p.readlines()\n",
      "for i in range(len(tar_fn_regiona_paths)):\n",
      "    tar_fn_regiona_paths[i]=tar_fn_regiona_paths[i].split('\\n')[0]\n",
      "print tar_fn_regiona_paths\n",
      "\n",
      "class NM_list:\n",
      "    def __init__(self,n,m):\n",
      "        self.container=[]\n",
      "        for i in range(n):\n",
      "            self.container.append([])\n",
      "            for j in range(m):\n",
      "                self.container[i].append(None)"
     ],
     "language": "python",
     "metadata": {},
     "outputs": [
      {
       "output_type": "stream",
       "stream": "stdout",
       "text": [
        "['fld_a_rst_00.tar', 'fld_a_rst_01.tar', 'fld_a_rst_02.tar', 'fld_a_rst_03.tar', 'fld_a_rst_04.tar', 'fld_a_rst_05.tar', 'fld_a_rst_06.tar', 'fld_a_rst_07.tar', 'fld_a_rst_08.tar', 'fld_a_rst_09.tar', 'fld_a_rst_10.tar', 'fld_a_rst_11.tar', 'fld_a_rst_12.tar', 'fld_a_rst_13.tar', 'fld_a_rst_14.tar', 'fld_a_rst_15.tar', 'fld_a_rst_16.tar', 'fld_a_rst_17.tar', 'fld_a_rst_18.tar', 'fld_a_rst_19.tar', 'fld_a_rst_20.tar', 'fld_a_rst_21.tar', 'fld_a_rst_22.tar', 'fld_a_rst_23.tar', 'fld_a_rst_24.tar', 'fld_a_rst_25.tar', 'fld_a_rst_26.tar', 'fld_a_rst_27.tar', 'fld_a_rst_28.tar', 'fld_a_rst_29.tar', 'fld_a_rst_30.tar']\n"
       ]
      }
     ],
     "prompt_number": 19
    },
    {
     "cell_type": "code",
     "collapsed": false,
     "input": [
      "d=NM_list(5,3)\n",
      "print d.container"
     ],
     "language": "python",
     "metadata": {},
     "outputs": [
      {
       "output_type": "stream",
       "stream": "stdout",
       "text": [
        "[[None, None, None], [None, None, None], [None, None, None], [None, None, None], [None, None, None]]\n"
       ]
      }
     ],
     "prompt_number": 20
    },
    {
     "cell_type": "heading",
     "level": 2,
     "metadata": {},
     "source": [
      "Tasks for FLDb"
     ]
    },
    {
     "cell_type": "code",
     "collapsed": false,
     "input": [
      "import subprocess,os\n",
      "import time\n",
      "from MP import progress_bar\n",
      "from fld import write_FLDnu\n",
      "uet = progress_bar.update_elapsed_time\n",
      "\n",
      "path_vpsc_home = '/Users/yj/repo/vpsc/vpsc-dev-fld'\n",
      "os.chdir(path_vpsc_home)\n",
      "path_home = os.getcwd()\n",
      "\n",
      "print 'path home:',path_home\n",
      "\n",
      "class FLDbTask():\n",
      "    def __init__(self):\n",
      "        pass\n",
      "    def create_working_folder(\n",
      "            self,path_work=None,f0=0.990,psi0=0.,\n",
      "            fn_tar_FLDa=None,iprobe=0):\n",
      "        \"\"\"\n",
      "        Assign worker's duties\n",
      "        The worker should create 'vpsc7.in' input\n",
      "        according to the linear paths given to him/her.\n",
      "        \n",
      "        Arguments\n",
      "        =========\n",
      "        path_work\n",
      "        f0\n",
      "        psi0\n",
      "        fn_tar_FLDa\n",
      "        iprobe\n",
      "        \"\"\"\n",
      "        from fld import fld_post_probe\n",
      "        self.tf_a=fn_tar_FLDa\n",
      "    \n",
      "        memb  = 'fld_a_rst_%2.2i.tar'%iprobe\n",
      "        cmd   = 'tar -xf %s %s'%(self.tf_a, memb)\n",
      "        iflag = os.system(cmd)\n",
      "        if iflag!=0: raise IOError\n",
      "        cmd   = 'tar -xf %s region_a.bin'%memb\n",
      "        iflag = os.system(cmd) \n",
      "        if iflag!=0: raise IOError, 'Could not find region_a.bin'\n",
      "\n",
      "        if path_work==None:\n",
      "            self.path_work= tempfile.mkdtemp(\n",
      "                dir='/tmp', prefix='VPSC-test-')\n",
      "        else: self.path_work = path_work\n",
      "\n",
      "        shutil.move('region_a.bin', self.path_work)\n",
      "        write_FLDnu(dst=self.path_work,\n",
      "                        limit_factor=10,\n",
      "                        njacob_cal=1,\n",
      "                        dx_jac=1e-04,\n",
      "                        err_fi=1e-01,\n",
      "                        err_vi=1e-07,\n",
      "                        max_iter=20)\n",
      "        fld_post_probe(f0,psi0,dst=self.path_work)\n",
      "        \n",
      "    def run(self,bufsize=1):\n",
      "        \"\"\"\n",
      "        Execute VPSC and piping stdout\n",
      "\n",
      "        Argments\n",
      "        ========\n",
      "        wait=False\n",
      "        bufsize=1\n",
      "        \"\"\"\n",
      "        os.chdir(self.path_work)\n",
      "        ## piping to file object\n",
      "        self.stdout = subprocess.PIPE\n",
      "\n",
      "        self.p = subprocess.Popen(['./vpsc'], \n",
      "                                shell=True,\n",
      "                                stdout=self.stdout,\n",
      "                                bufsize=bufsize)\n",
      "        self.stdout=self.p.stdout\n",
      "        self.pid=self.p.pid\n",
      "        print 'pid:', self.pid\n",
      "        self.sigma = []\n",
      "        self.epsilon = []         \n",
      "\n",
      "#    def kill(self): self.p.kill()\n",
      "#    def terminate(self): self.p.terminate()\n",
      "#    def lock(self): self.p.wait()\n",
      "\n",
      "    def readlines(self,nbuf=10,verbose=False,f_crit=10):\n",
      "        \"\"\"\n",
      "        Read <nbuf> number of lines from self.stdout\n",
      "        \n",
      "        Arguments\n",
      "        =========\n",
      "        nbuf=10\n",
      "        verbose=False\n",
      "        \"\"\"\n",
      "        ineck = False # necked? - reached forming limit?\n",
      "        ifail = False # failed?\n",
      "        \n",
      "        for i in range(nbuf):\n",
      "            line = self.stdout.readline().split('\\n')[0]\n",
      "            try:\n",
      "                a,b=line.split('||')\n",
      "            except:\n",
      "                pass\n",
      "            else:\n",
      "                adat, bdat=a.split(), b.split()\n",
      "                f = float(bdat[9])\n",
      "                if f>f_crit and abs(f)>abs(f_crit*1.5):\n",
      "                    print 'Fail [2]'\n",
      "                    e11_a, e22_a, e12_a, s11_a, s22_a, s12_a, \\\n",
      "                    e11_b, e22_b, e12_b, s11_b, s22_b, s22_b, psi=\\\n",
      "                    np.nan,np.nan,np.nan,np.nan,np.nan,np.nan,\\\n",
      "                    np.nan,np.nan,np.nan,np.nan,np.nan,np.nan,np.nan\n",
      "                else:\n",
      "                    e11_a, e22_a, e12_a, s11_a, s22_a, s12_a = \\\n",
      "                    map(float,adat[1],adat[2],adat[4],adat[5],adat[6],dat[8])\n",
      "                    e11_b, e22_b, e12_b, s11_b, s22_b, s12_b = \\\n",
      "                    map(float,bdat[0],bdat[1],bdat[3],bdat[4],bdat[5],bdat[7])\n",
      "                    psi = float(bdat[10])\n",
      "\n",
      "\n",
      "#                eps=np.array(map(float,d[0].split()))\n",
      "#                sig=np.array(map(float,d[1].split()))\n",
      "#            except: pass\n",
      "#            else:\n",
      "#                if verbose: print d\n",
      "#                self.sigma.append(sig)\n",
      "#                self.epsilon.append(eps)\n",
      "#                self.update_fc()\n",
      "#                self.fc.get_eqv()\n",
      "\n",
      "    def set_monitor(self,term_evm=0.1,dt=5,nbuf=10):\n",
      "        \"\"\"\n",
      "        Monitoring stress-strain, if p terminates\n",
      "        prior to given term_evm, save/return that value.\n",
      "\n",
      "        Arguments\n",
      "        =========\n",
      "        term_evm\n",
      "        dt\n",
      "        nbuf\n",
      "        \"\"\"\n",
      "        t0=time.time()\n",
      "        iexit=False\n",
      "        while not(iexit):\n",
      "            t1=time.time(); elps = t1-t0\n",
      "            uet(elps,False,'Total elapsed time')\n",
      "            self.readlines(nbuf=nbuf)\n",
      "            try: \n",
      "                dum=self.fc.nstp\n",
      "            except: pass\n",
      "            else:\n",
      "                #print self.fc.epsilon_vm[-1], term_evm\n",
      "                if self.fc.epsilon_vm[-1]>=term_evm:\n",
      "                    #self.p.kill()\n",
      "                    self.p.terminate()\n",
      "                    print '\\nprocess killed due to exceeding term_evm'\n",
      "                    return self.fc.epsilon_vm[-1]\n",
      "                    iexit = True\n",
      "            if self.p.poll()!=None:\n",
      "                print 'process terminated'\n",
      "                print self.p.poll();iexit=True\n",
      "                if self.fc.epsilon_vm[-1]<term_evm:\n",
      "                    print 'VM strain found from pid:%i '%self.p.pid,\n",
      "                    print 'is lower than the given value!'\n",
      "                    return self.fc.epsilon_vm[-1]\n",
      "            if not(iexit): time.sleep(dt)\n",
      "    def update_fc(self):\n",
      "        \"\"\"\n",
      "        Update flow stress/strain data\n",
      "        \"\"\"\n",
      "        eps,sig = np.array(self.epsilon).T, np.array(self.sigma).T\n",
      "        self.fc = FlowCurve()\n",
      "        self.fc.get_6strain(eps)\n",
      "        self.fc.get_6stress(sig)\n",
      "    def returncode(self):\n",
      "        return p.returncode"
     ],
     "language": "python",
     "metadata": {},
     "outputs": [
      {
       "output_type": "stream",
       "stream": "stdout",
       "text": [
        "path home: /Users/yj/repo/vpsc/vpsc-dev-fld\n"
       ]
      }
     ],
     "prompt_number": 48
    },
    {
     "cell_type": "code",
     "collapsed": false,
     "input": [
      "pwd"
     ],
     "language": "python",
     "metadata": {},
     "outputs": [
      {
       "metadata": {},
       "output_type": "pyout",
       "prompt_number": 49,
       "text": [
        "u'/Users/yj/repo/vpsc/vpsc-dev-fld'"
       ]
      }
     ],
     "prompt_number": 49
    },
    {
     "cell_type": "code",
     "collapsed": false,
     "input": [
      "ls *.tar"
     ],
     "language": "python",
     "metadata": {},
     "outputs": [
      {
       "output_type": "stream",
       "stream": "stdout",
       "text": [
        "fld_a_rst_05.tar               fld_a_rst_20150226.tar         fld_a_rst_20150226_g1ilpD.tar\r\n"
       ]
      }
     ],
     "prompt_number": 50
    },
    {
     "cell_type": "code",
     "collapsed": false,
     "input": [
      "## Testing FLDbTask()\n",
      "MyTask=FLDbTask()\n",
      "MyTask.create_working_folder(\n",
      "path_work=None,f0=0.990,psi0=0.,\n",
      "fn_tar_FLDa='fld_a_rst_20150226.tar',iprobe=5)\n",
      "\n",
      "MyTask.run()\n",
      "print MyTask.path_work\n",
      "print MyTask.pid\n"
     ],
     "language": "python",
     "metadata": {},
     "outputs": [
      {
       "output_type": "stream",
       "stream": "stdout",
       "text": [
        "pid: 45339\n",
        "/tmp/VPSC-test-FHA7jM\n",
        "45339\n"
       ]
      }
     ],
     "prompt_number": 51
    },
    {
     "cell_type": "code",
     "collapsed": false,
     "input": [
      "dum=MyTask.stdout.readline()\n",
      "print dum"
     ],
     "language": "python",
     "metadata": {},
     "outputs": [
      {
       "output_type": "stream",
       "stream": "stdout",
       "text": [
        "    4   0.0040   0.0000  -0.0040   0.0000   160.    80.     0.    -0.  ||    0.0046   0.0000  -0.0046   0.0000   162.    82.     0.    -0. D33(B)/D33(A) 0.107E+01   0.0  vi: 0.647E-04  0.200E-04     f:0.9894    2\n",
        "\n"
       ]
      }
     ],
     "prompt_number": 102
    },
    {
     "cell_type": "code",
     "collapsed": false,
     "input": [
      "a,b=dum.split('||')\n",
      "adat=a.split();bdat=b.split()"
     ],
     "language": "python",
     "metadata": {},
     "outputs": [],
     "prompt_number": 111
    },
    {
     "cell_type": "code",
     "collapsed": false,
     "input": [
      "print bdat"
     ],
     "language": "python",
     "metadata": {},
     "outputs": [
      {
       "output_type": "stream",
       "stream": "stdout",
       "text": [
        "['0.0046', '0.0000', '-0.0046', '0.0000', '162.', '82.', '0.', '-0.', 'D33(B)/D33(A)', '0.107E+01', '0.0', 'vi:', '0.647E-04', '0.200E-04', 'f:0.9894', '2']\n"
       ]
      }
     ],
     "prompt_number": 114
    },
    {
     "cell_type": "code",
     "collapsed": false,
     "input": [
      "MyTask.p.kill()\n",
      "shutil.rmtree(MyTask.path_work)\n",
      "os.chdir(path_home)"
     ],
     "language": "python",
     "metadata": {},
     "outputs": [],
     "prompt_number": 93
    },
    {
     "cell_type": "code",
     "collapsed": false,
     "input": [],
     "language": "python",
     "metadata": {},
     "outputs": [],
     "prompt_number": 40
    },
    {
     "cell_type": "code",
     "collapsed": false,
     "input": [],
     "language": "python",
     "metadata": {},
     "outputs": [],
     "prompt_number": 70
    },
    {
     "cell_type": "heading",
     "level": 2,
     "metadata": {},
     "source": [
      "Manager of FLDb workers"
     ]
    },
    {
     "cell_type": "code",
     "collapsed": false,
     "input": [
      "import fld\n",
      "from fld import fld_post_probe\n",
      "import shutil\n",
      "from random import choice\n",
      "import numpy as np\n",
      "from tempfile import mkdtemp\n",
      "from MP import progress_bar\n",
      "upr = progress_bar.update_progress\n",
      "uet = progress_bar.update_elapsed_time\n",
      "       \n",
      "class Worker:\n",
      "    def __init__(self):\n",
      "        self.idle=True\n",
      "        self.task=None\n",
      "    def Give_task(self,task):\n",
      "        os.getcwd(dir)\n",
      "        self.task=task\n",
      "    def KillTask(self):\n",
      "        task.kill()\n",
      "        self.idle=True\n",
      "        self.task=None\n",
      "        \n",
      "        \n",
      "class Union:\n",
      "    def __init__(self,nworker):\n",
      "        self.workers=[]\n",
      "        for i in range(nworker):\n",
      "            self.workers.append(Worker())\n",
      "        self.nworker=nworker\n",
      "    def Assign_a_task(self,task,time_buffer=1.):\n",
      "        \"\"\"\n",
      "        Assign the given task to an idle worker\n",
      "        \n",
      "        Arguments\n",
      "        =========\n",
      "        task\n",
      "        time_buffer=1.\n",
      "        \"\"\"\n",
      "        while (self.n_idle_workers==0):\n",
      "            time.sleep(time_buffer)\n",
      "            self.Find_idle_workers()\n",
      "        \n",
      "        chosen_worker = choice(self.idle_workers)\n",
      "        chosen_worker.Give_Task(task)\n",
      "    def Find_idle_workers(self):\n",
      "        \"\"\"\n",
      "        See if any idle worker is available\n",
      "        \"\"\"\n",
      "        self.n_idle_workers=0\n",
      "        self.idle_workers=[]\n",
      "        for i in range(len(self.workers)):\n",
      "            if self.workers.idle:\n",
      "                self.n_idle_workers=self.n_idle_workers+1\n",
      "                self.idle_workers.append(self.workers[i])\n",
      "\n",
      "    \n",
      "class FLDmanager:\n",
      "    def __init__(self):\n",
      "        pass\n",
      "    def gen_workers_union(self,nworker=1):\n",
      "        self.union = Union(nworker=nworker)\n",
      "        self.nworker=self.union.nworker\n",
      "        pass\n",
      "    def run(self):\n",
      "        \"\"\"\n",
      "        \"\"\"\n",
      "        print 'VPSC-FLDb simulations for',\n",
      "        print 'total %i runs'%(self.ntask)\n",
      "        for i in range(self.n_probe):\n",
      "            \"\"\"\n",
      "            Submit First a few, find one that\n",
      "            'successfully fracture first'\n",
      "            \"\"\"\n",
      "            pass\n",
      "    def create_work_place(\n",
      "        self,dir='/Users/yj/repo/vpsc/vpsc-dev-fld',\n",
      "        fn='fld_a_rst_20150226.tar',\n",
      "        f0=0.990,npsi=2):\n",
      "        \"\"\"\n",
      "        1. Point to home and find\n",
      "        what today's duties are.\n",
      "        2. Create hub \n",
      "        3. Figure out what tasks are given\n",
      "        4. Prepare tasks and assign them to a finite number of workers\n",
      "        5. Make sure workers are not idle.\n",
      "        \n",
      "        Arguments\n",
      "        =========\n",
      "        dir\n",
      "        fn   : tar file generated by region A simulations for <n> number of paths\n",
      "        f0   : initial inhomogeneity factor (ratio of thicknesses)\n",
      "        npsi=5.\n",
      "        \"\"\"\n",
      "        self.path_home=dir\n",
      "        self.tf_a=fn\n",
      "        self.psi0s = np.linspace(0.,90.,npsi)\n",
      "        self.npsi = npsi\n",
      "        \n",
      "        ## generate path_hub\n",
      "        self.path_hub = mkdtemp(dir='/tmp',prefix='VPSCFLD-hub-regionB-')\n",
      "        os.chdir(self.path_home)\n",
      "        fld_post_probe(f0=f0,psi0=0,# psi0 is not meaningful for path_hub\n",
      "                       dst=self.path_hub,wc=['find_rhos','FLD_nu.in',self.tf_a])\n",
      "        os.chdir(self.path_hub)\n",
      "        p=os.popen('tar -tf '+self.tf_a)\n",
      "        self.n_probe=len(p.readlines())\n",
      "        print 'n_probe:', self.n_probe\n",
      "        \n",
      "        ## total tasks: [self.npsi, self.n_probe]\n",
      "        ## Create the table of tasks.\n",
      "        \n",
      "        self.paths_work=NM_list(self.npsi,self.n_probe).container\n",
      "        self.ntask = self.n_probe*self.npsi\n",
      "        k=0\n",
      "        print '# Prep total %i working paths'%self.ntask\n",
      "        t0=time.time();dt=0.1\n",
      "        self.tasks=[]\n",
      "        tt0=t0\n",
      "        for j in range(self.n_probe):\n",
      "            for i in range(self.npsi):\n",
      "                path_work = mkdtemp(dir='/tmp',prefix='VPSCFLD-regionB-')\n",
      "                self.paths_work[i][j] = path_work\n",
      "                \n",
      "                ## create tasks\n",
      "                task = FLDbTask()\n",
      "                task.create_working_folder(\n",
      "                    path_work=path_work,f0=f0,\n",
      "                    psi0=self.psi0s[i],fn_tar_FLDa=self.tf_a,\n",
      "                    iprobe=j)\n",
      "                self.tasks.append(task)        \n",
      "                \n",
      "                ## progress bar\n",
      "                k=k+1\n",
      "                t1=time.time()\n",
      "                if t1-t0>dt or k==self.ntask:                    \n",
      "                    upr(float(k)/float(self.ntask))\n",
      "                    t0 = t1\n",
      "        uet(time.time()-tt0);print\n",
      "        os.chdir(self.path_home)\n",
      "        \n",
      "    def remove_workplaces(self):\n",
      "        \"\"\"\n",
      "        Remove all workplaces, caution should be taken!\n",
      "        \"\"\"\n",
      "        for i in xrange(len(self.paths_work)):\n",
      "            for j in xrange(len(self.paths_work[i])):\n",
      "                shutil.rmtree(self.paths_work[i][j])\n",
      "        "
     ],
     "language": "python",
     "metadata": {},
     "outputs": [],
     "prompt_number": 26
    },
    {
     "cell_type": "code",
     "collapsed": false,
     "input": [
      "evil_manager=FLDmanager()\n",
      "evil_manager.create_work_place(npsi=2)\n",
      "evil_manager.run()\n",
      "evil_manager.remove_workplaces()"
     ],
     "language": "python",
     "metadata": {},
     "outputs": [
      {
       "output_type": "stream",
       "stream": "stdout",
       "text": [
        "n_probe: 31\n",
        "# Prep total 62 working paths\n",
        "\r",
        "Percent: [#-----------------------------] 003% "
       ]
      },
      {
       "output_type": "stream",
       "stream": "stdout",
       "text": [
        "\r",
        "Percent: [##----------------------------] 006% "
       ]
      },
      {
       "output_type": "stream",
       "stream": "stdout",
       "text": [
        "\r",
        "Percent: [###---------------------------] 009% "
       ]
      },
      {
       "output_type": "stream",
       "stream": "stdout",
       "text": [
        "\r",
        "Percent: [####--------------------------] 012% "
       ]
      },
      {
       "output_type": "stream",
       "stream": "stdout",
       "text": [
        "\r",
        "Percent: [#####-------------------------] 016% "
       ]
      },
      {
       "output_type": "stream",
       "stream": "stdout",
       "text": [
        "\r",
        "Percent: [######------------------------] 019% "
       ]
      },
      {
       "output_type": "stream",
       "stream": "stdout",
       "text": [
        "\r",
        "Percent: [#######-----------------------] 022% "
       ]
      },
      {
       "output_type": "stream",
       "stream": "stdout",
       "text": [
        "\r",
        "Percent: [########----------------------] 025% "
       ]
      },
      {
       "output_type": "stream",
       "stream": "stdout",
       "text": [
        "\r",
        "Percent: [#########---------------------] 029% "
       ]
      },
      {
       "output_type": "stream",
       "stream": "stdout",
       "text": [
        "\r",
        "Percent: [##########--------------------] 032% "
       ]
      },
      {
       "output_type": "stream",
       "stream": "stdout",
       "text": [
        "\r",
        "Percent: [###########-------------------] 035% "
       ]
      },
      {
       "output_type": "stream",
       "stream": "stdout",
       "text": [
        "\r",
        "Percent: [############------------------] 038% "
       ]
      },
      {
       "output_type": "stream",
       "stream": "stdout",
       "text": [
        "\r",
        "Percent: [#############-----------------] 041% "
       ]
      },
      {
       "output_type": "stream",
       "stream": "stdout",
       "text": [
        "\r",
        "Percent: [##############----------------] 045% "
       ]
      },
      {
       "output_type": "stream",
       "stream": "stdout",
       "text": [
        "\r",
        "Percent: [###############---------------] 048% "
       ]
      },
      {
       "output_type": "stream",
       "stream": "stdout",
       "text": [
        "\r",
        "Percent: [###############---------------] 051% "
       ]
      },
      {
       "output_type": "stream",
       "stream": "stdout",
       "text": [
        "\r",
        "Percent: [################--------------] 053% "
       ]
      },
      {
       "output_type": "stream",
       "stream": "stdout",
       "text": [
        "\r",
        "Percent: [#################-------------] 056% "
       ]
      },
      {
       "output_type": "stream",
       "stream": "stdout",
       "text": [
        "\r",
        "Percent: [##################------------] 059% "
       ]
      },
      {
       "output_type": "stream",
       "stream": "stdout",
       "text": [
        "\r",
        "Percent: [###################-----------] 062% "
       ]
      },
      {
       "output_type": "stream",
       "stream": "stdout",
       "text": [
        "\r",
        "Percent: [####################----------] 066% "
       ]
      },
      {
       "output_type": "stream",
       "stream": "stdout",
       "text": [
        "\r",
        "Percent: [#####################---------] 069% "
       ]
      },
      {
       "output_type": "stream",
       "stream": "stdout",
       "text": [
        "\r",
        "Percent: [######################--------] 072% "
       ]
      },
      {
       "output_type": "stream",
       "stream": "stdout",
       "text": [
        "\r",
        "Percent: [#######################-------] 075% "
       ]
      },
      {
       "output_type": "stream",
       "stream": "stdout",
       "text": [
        "\r",
        "Percent: [########################------] 079% "
       ]
      },
      {
       "output_type": "stream",
       "stream": "stdout",
       "text": [
        "\r",
        "Percent: [#########################-----] 082% "
       ]
      },
      {
       "output_type": "stream",
       "stream": "stdout",
       "text": [
        "\r",
        "Percent: [##########################----] 085% "
       ]
      },
      {
       "output_type": "stream",
       "stream": "stdout",
       "text": [
        "\r",
        "Percent: [###########################---] 088% "
       ]
      },
      {
       "output_type": "stream",
       "stream": "stdout",
       "text": [
        "\r",
        "Percent: [############################--] 091% "
       ]
      },
      {
       "output_type": "stream",
       "stream": "stdout",
       "text": [
        "\r",
        "Percent: [#############################-] 095% "
       ]
      },
      {
       "output_type": "stream",
       "stream": "stdout",
       "text": [
        "\r",
        "Percent: [##############################] 098% "
       ]
      },
      {
       "output_type": "stream",
       "stream": "stdout",
       "text": [
        "\r",
        "Percent: [##############################] 100% Done...\r\n"
       ]
      },
      {
       "output_type": "stream",
       "stream": "stdout",
       "text": [
        "\r",
        "Elapsed time: 04 [sec]"
       ]
      },
      {
       "output_type": "stream",
       "stream": "stdout",
       "text": [
        "\n",
        "VPSC-FLDb simulations for total 62 runs\n"
       ]
      }
     ],
     "prompt_number": 27
    },
    {
     "cell_type": "code",
     "collapsed": false,
     "input": [],
     "language": "python",
     "metadata": {},
     "outputs": [],
     "prompt_number": 118
    },
    {
     "cell_type": "code",
     "collapsed": false,
     "input": [
      "ls /tmp/VPSCFLD-regionB-CoCGb_"
     ],
     "language": "python",
     "metadata": {},
     "outputs": [
      {
       "output_type": "stream",
       "stream": "stdout",
       "text": [
        "ls: /tmp/VPSCFLD-regionB-CoCGb_: No such file or directory\r\n"
       ]
      }
     ],
     "prompt_number": 101
    },
    {
     "cell_type": "code",
     "collapsed": false,
     "input": [],
     "language": "python",
     "metadata": {},
     "outputs": []
    }
   ],
   "metadata": {}
  }
 ]
}